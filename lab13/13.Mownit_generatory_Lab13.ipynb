{
 "cells": [
  {
   "cell_type": "markdown",
   "id": "771a1179",
   "metadata": {},
   "source": [
    "# MOwNiT - Generatory liczb losowych\n",
    "\n",
    "## Problem logarytmu dyskretnego\n",
    "\n",
    "Niech $(G,\\circ)$ będzie grupą z działaniem $\\circ$ i elementem neutralnym $1_G$. Wtedy dla dowolnego elementu $a\\in G$ i $k\\in\\mathbb{Z}$ definiujemy *potęgę* $$a^k =\\left\\{\\begin{array}{cc}\n",
    "\\underbrace{a\\circ a\\circ \\ldots \\circ a}_{k}&\\text{ dla }k>0\\\\\n",
    "1_G&\\text{ dla }k=0\\\\\n",
    "\\underbrace{a^{-1}\\circ a^{-1}\\circ \\ldots \\circ a^{-1}}_{k}&\\text{ dla }k<0\n",
    "\\end{array}\\right.$$\n",
    "gdzie $a^{-1}$ jest elementem odwrotnym do $a$.\n",
    "\n",
    "Dla $a,b\\in G$, $b\\neq 1_G$, *logarytmem dyskretnym* $\\log_b a$ jest każda liczba $k\\in\\mathbb{Z}$ taka, że $b^k=a$.\n",
    "\n",
    "### Logarytm dyskretny w $\\mathbb{Z}_n$\n",
    "\n",
    "W przypadku pierścienia $\\mathbb{Z}_n$ logarytmem dyskretnym $\\log_b a$ jest każda liczba $k\\in\\mathbb{Z}$ taka, że $b^k=a\\mod n$, o ile w ogóle istnieje.\n",
    "\n",
    "Specyficzną sytuacją w teorii liczb jest gdy $n=p$ jest liczbą pierwszą a $q$ jest pierwiastkiem pierwotnym $\\mod p$. Wtedy:\n",
    "- potęgi $q^k\\mod p$ generują cały zbiór $[1,p-1]$, tzn. $q$ jest generatorem grupy multiplikatywnej rzędu $p-1$\n",
    "- logarytm dyskretny $\\log_q a$ istnieje dla każdego niezerowego elementu $a\\in \\mathbb{Z}_p$"
   ]
  },
  {
   "cell_type": "markdown",
   "id": "812b4993",
   "metadata": {},
   "source": [
    "## Algorytm wymiany klucza Diffiego-Hellmana\n",
    "\n",
    "Alice i Bob uzgadniają klucz publiczny będący liczbą pierwszą $p$ oraz $q$ - pierwiastkiem pierwotnym mod $p$.\n",
    "- sekret Alice: liczba całkowita $n\\in \\mathbb{Z}_p\\setminus\\{0\\}$ losowa, z rozkładu jednostajnego\n",
    "- sekret Boba: liczba całkowita $m\\in \\mathbb{Z}_p\\setminus\\{0\\}$ losowa, z rozkładu jednostajnego\n",
    "- Alice generuje $x=q^n\\mod p$ i wysyła do Boba\n",
    "- Bob generuje $y=q^m\\mod p$ i wysyła Alice\n",
    "- Alice oblicza klucz $k=y^n\\mod p$\n",
    "- Bob oblicza klucz $k=x^m\\mod p$\n"
   ]
  },
  {
   "cell_type": "markdown",
   "id": "1af7b0e6",
   "metadata": {},
   "source": [
    "## Zadanie 1. (2 pkt)\n",
    "\n",
    "Zaimplementuj wybrany algorytm generowania liczb losowych z rozkładem jednostajnym w pierścieniu $\\mathbb{Z}_p$."
   ]
  },
  {
   "cell_type": "code",
   "execution_count": 2,
   "id": "9c934933",
   "metadata": {},
   "outputs": [],
   "source": [
    "class LCG:\n",
    "    def __init__(self, seed = 1234):\n",
    "        self.mod = 1 << 32\n",
    "        self.multiplier = 1664525 % self.mod\n",
    "        self.increment = 907633385 % self.mod\n",
    "        self.state = seed\n",
    "\n",
    "    def rand(self):\n",
    "        self.state = (self.state * self.multiplier + self.increment) % self.mod\n",
    "        return self.state / self.mod\n",
    "\n",
    "    def uniform(self, low = 0.0, high = 1.0):\n",
    "        return low + self.rand() * (high - low)\n",
    "\n",
    "    def rand_int(self, low = 0, high = 1):\n",
    "        return int(self.uniform(low, high))"
   ]
  },
  {
   "cell_type": "markdown",
   "id": "3a81f5dd",
   "metadata": {},
   "source": [
    "## Zadanie 2. (2 pkt)\n",
    "\n",
    "Wykorzystaj algorytm z zadania pierwszego do implementacji wymiany klucza Diffie-Hellman."
   ]
  },
  {
   "cell_type": "code",
   "execution_count": 12,
   "id": "2cf68a23",
   "metadata": {},
   "outputs": [],
   "source": [
    "class Endpoint:\n",
    "    def __init__(self, p: int, q: int, rng: LCG):\n",
    "        self.p = p\n",
    "        self.q = q\n",
    "        self.rng = rng\n",
    "        self.private_key = self.rng.rand_int(0, self.p)\n",
    "\n",
    "    def create_public_key(self):\n",
    "        self.private_key = self.rng.rand_int(0, self.p)\n",
    "        return pow(self.q, self.private_key, mod = self.p)\n",
    "\n",
    "    def compute_shared_key(self, other_endpoint_key):\n",
    "        return pow(other_endpoint_key, self.private_key, mod = self.p)"
   ]
  },
  {
   "cell_type": "code",
   "execution_count": 14,
   "id": "0310077f",
   "metadata": {},
   "outputs": [
    {
     "name": "stdout",
     "output_type": "stream",
     "text": [
      "alice:\n",
      "public_key = 1, private_key = 0\n",
      "bob:\n",
      "public_key = 5, private_key = 5\n",
      "alice:\n",
      "computed shared key = 1\n",
      "bob:\n",
      "computed shared key = 1\n"
     ]
    }
   ],
   "source": [
    "p = 7\n",
    "q = 3\n",
    "rng = LCG()\n",
    "\n",
    "alice = Endpoint(p, q, rng)\n",
    "bob = Endpoint(p, q, rng)\n",
    "\n",
    "alice_public_key = alice.create_public_key()\n",
    "bob_public_key = bob.create_public_key()\n",
    "\n",
    "print(f\"alice:\\npublic_key = {alice_public_key}, private_key = {alice.private_key}\")\n",
    "print(f\"bob:\\npublic_key = {bob_public_key}, private_key = {bob.private_key}\")\n",
    "print(f\"alice:\\ncomputed shared key = {alice.compute_shared_key(bob_public_key)}\")\n",
    "print(f\"bob:\\ncomputed shared key = {bob.compute_shared_key(alice_public_key)}\")"
   ]
  },
  {
   "cell_type": "markdown",
   "id": "076f56f9",
   "metadata": {},
   "source": [
    "## Zadanie 3. (1 pkt)\n",
    "Na swoją własną implementację przeprowadź atak metodą brute force. Jeżeli zakończy się sukcesem - zmień parametry kryptosystemu tak, by atak brute force nie przyniósł rezultatów w rozsądnym czasie (rozsądny czas = 10 minut)."
   ]
  },
  {
   "cell_type": "code",
   "execution_count": 15,
   "id": "c54ee986",
   "metadata": {},
   "outputs": [],
   "source": [
    "def discrete_logarithm(x, base, mod):\n",
    "    for k in range(mod):\n",
    "        if pow(base, k, mod = mod) == x:\n",
    "            return k\n",
    "\n",
    "    raise Exception(f\"Discreate logarithm log{base}({x}) does not exist!!!\")"
   ]
  },
  {
   "cell_type": "code",
   "execution_count": 22,
   "id": "24afd3eb",
   "metadata": {},
   "outputs": [],
   "source": [
    "class BreakEncryption:\n",
    "    def __init__(self, p, q, public_key_alice, public_key_bob):\n",
    "        self.p = p\n",
    "        self.q = q\n",
    "        self.public_key_alice = public_key_alice\n",
    "        self.public_key_bob = public_key_bob\n",
    "\n",
    "    def break_private_keys(self):\n",
    "        private_key_alice = discrete_logarithm(self.public_key_alice, self.q, self.p)\n",
    "        private_key_bob = discrete_logarithm(self.public_key_bob, self.q, self.p)\n",
    "\n",
    "        return private_key_alice, private_key_bob\n",
    "\n",
    "    def break_shared_key(self):\n",
    "        private_key_bob = discrete_logarithm(self.public_key_bob, self.q, self.p)\n",
    "        return pow(alice_public_key, private_key_bob)"
   ]
  },
  {
   "cell_type": "markdown",
   "id": "830aa8c6",
   "metadata": {},
   "source": [
    "#### Próba złamania kluczy prywatnych dla małej liczby pierwszej"
   ]
  },
  {
   "cell_type": "code",
   "execution_count": 23,
   "id": "27c45588",
   "metadata": {},
   "outputs": [
    {
     "data": {
      "text/plain": [
       "1"
      ]
     },
     "execution_count": 23,
     "metadata": {},
     "output_type": "execute_result"
    }
   ],
   "source": [
    "break_encryption = BreakEncryption(p, q, alice_public_key, bob_public_key)\n",
    "break_encryption.break_private_keys()\n",
    "break_encryption.break_shared_key()"
   ]
  },
  {
   "cell_type": "markdown",
   "id": "fd3304ab",
   "metadata": {},
   "source": [
    "#### Próba złamania kluczy prywatnych dla dużej liczby pierwszej"
   ]
  },
  {
   "cell_type": "code",
   "execution_count": 24,
   "id": "d240aad8",
   "metadata": {},
   "outputs": [],
   "source": [
    "from sympy.ntheory import primitive_root"
   ]
  },
  {
   "cell_type": "code",
   "execution_count": 36,
   "id": "d963747f",
   "metadata": {},
   "outputs": [
    {
     "name": "stdout",
     "output_type": "stream",
     "text": [
      "alice:\n",
      "public_key = 343065323, private_key = 33506462\n",
      "bob:\n",
      "public_key = 228674309, private_key = 373329534\n",
      "alice:\n",
      "computed shared key = 317280734\n",
      "bob:\n",
      "computed shared key = 317280734\n"
     ]
    }
   ],
   "source": [
    "p = 479001599\n",
    "q = primitive_root(p)\n",
    "rng = LCG()\n",
    "\n",
    "alice = Endpoint(p, q, rng)\n",
    "bob = Endpoint(p, q, rng)\n",
    "\n",
    "alice_public_key = alice.create_public_key()\n",
    "bob_public_key = bob.create_public_key()\n",
    "\n",
    "print(f\"alice:\\npublic_key = {alice_public_key}, private_key = {alice.private_key}\")\n",
    "print(f\"bob:\\npublic_key = {bob_public_key}, private_key = {bob.private_key}\")\n",
    "print(f\"alice:\\ncomputed shared key = {alice.compute_shared_key(bob_public_key)}\")\n",
    "print(f\"bob:\\ncomputed shared key = {bob.compute_shared_key(alice_public_key)}\")"
   ]
  },
  {
   "cell_type": "code",
   "execution_count": 37,
   "id": "e2aa8c8c",
   "metadata": {},
   "outputs": [],
   "source": [
    "break_encryption = BreakEncryption(p, q, alice_public_key, bob_public_key)"
   ]
  },
  {
   "cell_type": "code",
   "execution_count": null,
   "id": "61a1de06",
   "metadata": {},
   "outputs": [
    {
     "name": "stdout",
     "output_type": "stream",
     "text": [
      "ouldn't break private keys in 600 [s]!\n"
     ]
    }
   ],
   "source": [
    "from concurrent.futures import ThreadPoolExecutor, TimeoutError\n",
    "import time\n",
    "\n",
    "executor = ThreadPoolExecutor(max_workers=1)\n",
    "future = executor.submit(break_encryption.break_private_keys)\n",
    "\n",
    "timeout = 600\n",
    "\n",
    "try:\n",
    "    start = time.time()\n",
    "    alice_private_key, bob_private_key = future.result(timeout=timeout)\n",
    "    end = time.time()\n",
    "\n",
    "    time_elapsed = end - start\n",
    "\n",
    "    print(f\"alice private key: {alice_private_key}\")\n",
    "    print(f\"bob private key: {bob_private_key}\")\n",
    "    print(f\"attack time: {time_elapsed}\")\n",
    "except TimeoutError:\n",
    "    print(f\"couldn't break private keys in {timeout} [s]!\")"
   ]
  }
 ],
 "metadata": {
  "kernelspec": {
   "display_name": "mownit_env",
   "language": "python",
   "name": "python3"
  },
  "language_info": {
   "codemirror_mode": {
    "name": "ipython",
    "version": 3
   },
   "file_extension": ".py",
   "mimetype": "text/x-python",
   "name": "python",
   "nbconvert_exporter": "python",
   "pygments_lexer": "ipython3",
   "version": "3.12.3"
  }
 },
 "nbformat": 4,
 "nbformat_minor": 5
}
