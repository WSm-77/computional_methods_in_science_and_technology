{
 "cells": [
  {
   "cell_type": "markdown",
   "metadata": {},
   "source": [
    "# MOwNiT\n",
    "## Laboratorium 2 - Arytmetyka komputerowa\n"
   ]
  },
  {
   "cell_type": "markdown",
   "metadata": {},
   "source": [
    "Kalkulatory IEEE-754:\n",
    "* https://www.h-schmidt.net/FloatConverter/IEEE754.html\n",
    "\n",
    "Więcej o arytmetyce zmiennoprzecinkowej w pythonie:\n",
    "* https://docs.python.org/3/tutorial/floatingpoint.html"
   ]
  },
  {
   "cell_type": "markdown",
   "metadata": {},
   "source": [
    "W pythonie nie mamy żadnej gotowej funkcji do otrzymania reprezentacji binarnej typu `float`, tylko dla typu `int`. Mamy jednak w bibliotece `numpy` metodę `view`, która znajduje kodowanie `numpy.intXX` zmiennej typu `numpy.floatXX`.\n",
    "\n",
    "Poza tym, również w `numpy`, mamy funkcję `numpy.binary_repr`, która znajduje reprezentację binarną określonej długości dla zmiennej typu `numpy.intXX`.\n",
    "\n",
    "**Ważne** żeby faktycznie zobaczyć reprezentację binarną zmiennnej typu `numpy.floatXX`, musimy zapewnić `width=XX`. Nie da się tego zrobić wbudowaną funkcją `bin()`."
   ]
  },
  {
   "cell_type": "code",
   "execution_count": 1,
   "metadata": {},
   "outputs": [
    {
     "name": "stdout",
     "output_type": "stream",
     "text": [
      "11000000001000000000000000000000\n"
     ]
    }
   ],
   "source": [
    "import numpy as np\n",
    "\n",
    "x_float=-2.5\n",
    "x_bin=np.binary_repr(np.float32(x_float).view(np.int32),width=32)\n",
    "\n",
    "print(x_bin)"
   ]
  },
  {
   "cell_type": "markdown",
   "metadata": {},
   "source": [
    "Pierwsze `1` informuje o znaku `-`. Wykładnik to `10000000` a mantysa to `01000000000000000000000`."
   ]
  },
  {
   "cell_type": "code",
   "execution_count": 2,
   "metadata": {},
   "outputs": [],
   "source": [
    "def float32_to_bin(x):\n",
    "    x_bin=str(np.binary_repr(np.float32(x).view(np.int32),width=32))\n",
    "    sgn=x_bin[0]\n",
    "    exp=x_bin[1:9]\n",
    "    man=x_bin[9:]\n",
    "    print(f'sgn={sgn} exp={exp} mantissa={man}')\n",
    "    return int(sgn,2),int(exp,2),int(man,2)"
   ]
  },
  {
   "cell_type": "code",
   "execution_count": 3,
   "metadata": {},
   "outputs": [
    {
     "name": "stdout",
     "output_type": "stream",
     "text": [
      "sgn=1 exp=10000000 mantissa=01000000000000000000000\n"
     ]
    },
    {
     "data": {
      "text/plain": [
       "(1, 128, 2097152)"
      ]
     },
     "execution_count": 3,
     "metadata": {},
     "output_type": "execute_result"
    }
   ],
   "source": [
    "float32_to_bin(-2.5)"
   ]
  },
  {
   "cell_type": "markdown",
   "metadata": {},
   "source": [
    "## Trochę teorii o IEEE-754"
   ]
  },
  {
   "cell_type": "markdown",
   "metadata": {},
   "source": [
    "Liczby zmienno przecinkowe są zapisywane w standardzie jako:\n",
    "\n",
    "$L = (-1)^{znak} * mantysa * 2^{cecha}$ \n",
    "\n",
    "* znak - 0 oznacza liczbę dodatnią, 1 ujemną\n",
    "* mantysa - wpływa na precyzje\n",
    "* cecha - wpływa na zakres, składająca się z samych 0 albo 1 ma specjalne znaczenie"
   ]
  },
  {
   "cell_type": "markdown",
   "metadata": {},
   "source": [
    "| Nazwa     | Liczba bitów | Bity znaku | Bity cechy | Bity mantysy | Bias  | Dokładność (cyfry znaczące) | Uwagi                                 |\n",
    "|-----------|--------------|------------|------------|--------------|-------|-----------------------------|---------------------------------------|\n",
    "| half      | 16           | 1          | 5          | 10           | 15    | 4                           |                                       |\n",
    "| single    | 32           | 1          | 8          | 23           | 127   | 7                           |                                       |\n",
    "| double    | 64           | 1          | 11         | 52           | 1023  | 16                          |                                       |\n",
    "| quadruple | 128          | 1          | 15         | 112          | 16383 | 34                          | Wprowadzone w 2008, niezbyt popularne |"
   ]
  },
  {
   "cell_type": "markdown",
   "metadata": {},
   "source": [
    "### Liczby znormalizowane"
   ]
  },
  {
   "cell_type": "markdown",
   "metadata": {},
   "source": [
    "Mantysa ma wartość z przedziału [1,2) - pierwszy bit ma zawsze wartość 1, więc nie trzeba go zapisywać (jest on tam \"domyślnie\")\n",
    "$L = (-1)^{znak} * 1.mantysa * 2^{cecha-bias}$"
   ]
  },
  {
   "cell_type": "code",
   "execution_count": 4,
   "metadata": {
    "scrolled": true
   },
   "outputs": [
    {
     "name": "stdout",
     "output_type": "stream",
     "text": [
      "sgn=0 exp=10000000 mantissa=01000000000000000000000\n"
     ]
    },
    {
     "data": {
      "text/plain": [
       "(0, 128, 2097152)"
      ]
     },
     "execution_count": 4,
     "metadata": {},
     "output_type": "execute_result"
    }
   ],
   "source": [
    "float32_to_bin(2.5)"
   ]
  },
  {
   "cell_type": "markdown",
   "metadata": {},
   "source": [
    "Policzenie wartości na podstawie reprezentacji bitowej."
   ]
  },
  {
   "cell_type": "code",
   "execution_count": 5,
   "metadata": {},
   "outputs": [
    {
     "data": {
      "text/plain": [
       "(1, 1.25)"
      ]
     },
     "execution_count": 5,
     "metadata": {},
     "output_type": "execute_result"
    }
   ],
   "source": [
    "cecha = 2**7-127\n",
    "mantysa = 2**(-2) + 1\n",
    "cecha, mantysa"
   ]
  },
  {
   "cell_type": "code",
   "execution_count": 6,
   "metadata": {},
   "outputs": [
    {
     "data": {
      "text/plain": [
       "2.5"
      ]
     },
     "execution_count": 6,
     "metadata": {},
     "output_type": "execute_result"
    }
   ],
   "source": [
    "L = 1 * mantysa * 2**(cecha)\n",
    "L"
   ]
  },
  {
   "cell_type": "markdown",
   "metadata": {},
   "source": [
    "### Liczba 0"
   ]
  },
  {
   "cell_type": "markdown",
   "metadata": {},
   "source": [
    "Wartości 0 nie da się zapisać w postaci znormalizowanej. Jeżeli zarówno mantysa jak i cecha zawierają same 0, to reprezentowana jest wartość 0.\n",
    "\n",
    "Ze względu na bit znaku teoretycznie istnieją dwie możliwości 0: +0 oraz -0."
   ]
  },
  {
   "cell_type": "code",
   "execution_count": 7,
   "metadata": {},
   "outputs": [
    {
     "name": "stdout",
     "output_type": "stream",
     "text": [
      "sgn=0 exp=00000000 mantissa=00000000000000000000000\n"
     ]
    },
    {
     "data": {
      "text/plain": [
       "(0, 0, 0)"
      ]
     },
     "execution_count": 7,
     "metadata": {},
     "output_type": "execute_result"
    }
   ],
   "source": [
    "float32_to_bin(0.0)"
   ]
  },
  {
   "cell_type": "code",
   "execution_count": 8,
   "metadata": {},
   "outputs": [
    {
     "name": "stdout",
     "output_type": "stream",
     "text": [
      "sgn=1 exp=00000000 mantissa=00000000000000000000000\n"
     ]
    },
    {
     "data": {
      "text/plain": [
       "(1, 0, 0)"
      ]
     },
     "execution_count": 8,
     "metadata": {},
     "output_type": "execute_result"
    }
   ],
   "source": [
    "float32_to_bin(-0.0)"
   ]
  },
  {
   "cell_type": "code",
   "execution_count": 9,
   "metadata": {},
   "outputs": [
    {
     "data": {
      "text/plain": [
       "np.True_"
      ]
     },
     "execution_count": 9,
     "metadata": {},
     "output_type": "execute_result"
    }
   ],
   "source": [
    "np.float32(-0.0) == np.float32(+0.0) # Oba zera są równe"
   ]
  },
  {
   "cell_type": "markdown",
   "metadata": {},
   "source": [
    "### Liczby zdenormalizowane\n",
    "\n",
    "Jeżeli cecha składa się z samych 0 to liczba jest *zdenormalizowana* i mantysa nie posiada \"domyślnego\" bitu. Pozwala to na reprezentacje liczb bliskich 0, które bez denormalizacji byłyby 0.\n",
    "\n",
    "$L = (-1)^{znak} * 0.mantysa * 2^{-bias+1}$\n",
    "\n",
    "Uwaga: Liczba 0 nie jest określana jako zdenormalizowana, pomimo, że cecha ma same 0!"
   ]
  },
  {
   "cell_type": "code",
   "execution_count": 10,
   "metadata": {},
   "outputs": [
    {
     "name": "stdout",
     "output_type": "stream",
     "text": [
      "sgn=0 exp=00000000 mantissa=00000000000001011001010\n"
     ]
    },
    {
     "data": {
      "text/plain": [
       "(0, 0, 714)"
      ]
     },
     "execution_count": 10,
     "metadata": {},
     "output_type": "execute_result"
    }
   ],
   "source": [
    "L = np.float32(1e-42)\n",
    "float32_to_bin(L)"
   ]
  },
  {
   "cell_type": "markdown",
   "metadata": {},
   "source": [
    "### Wartości specjalne"
   ]
  },
  {
   "cell_type": "markdown",
   "metadata": {},
   "source": [
    "####  Nieskończoność\n",
    "\n",
    "Reprezentowana jest przez cechę z samych 1 oraz mantysę z samych 0. W zależności od znaku można wyróżnić $-\\infty$ oraz $+\\infty$."
   ]
  },
  {
   "cell_type": "code",
   "execution_count": 11,
   "metadata": {},
   "outputs": [
    {
     "name": "stdout",
     "output_type": "stream",
     "text": [
      "sgn=0 exp=11111111 mantissa=00000000000000000000000\n"
     ]
    },
    {
     "data": {
      "text/plain": [
       "(0, 255, 0)"
      ]
     },
     "execution_count": 11,
     "metadata": {},
     "output_type": "execute_result"
    }
   ],
   "source": [
    "float32_to_bin(np.inf)"
   ]
  },
  {
   "cell_type": "code",
   "execution_count": 12,
   "metadata": {},
   "outputs": [
    {
     "name": "stdout",
     "output_type": "stream",
     "text": [
      "sgn=1 exp=11111111 mantissa=00000000000000000000000\n"
     ]
    },
    {
     "data": {
      "text/plain": [
       "(1, 255, 0)"
      ]
     },
     "execution_count": 12,
     "metadata": {},
     "output_type": "execute_result"
    }
   ],
   "source": [
    "float32_to_bin(-np.inf)"
   ]
  },
  {
   "cell_type": "markdown",
   "metadata": {},
   "source": [
    "#### NaN\n",
    "\n",
    "Reprezentowana jest przez cechę z samych 1 oraz mantysę różną od 0.\n",
    "\n",
    "`NaN`ami są np. 0/0, $\\infty - \\infty$"
   ]
  },
  {
   "cell_type": "code",
   "execution_count": 13,
   "metadata": {},
   "outputs": [
    {
     "name": "stderr",
     "output_type": "stream",
     "text": [
      "/tmp/ipykernel_4805/1976941368.py:1: RuntimeWarning: invalid value encountered in scalar divide\n",
      "  np.float32(0)/np.float32(0)\n"
     ]
    },
    {
     "data": {
      "text/plain": [
       "np.float32(nan)"
      ]
     },
     "execution_count": 13,
     "metadata": {},
     "output_type": "execute_result"
    }
   ],
   "source": [
    "np.float32(0)/np.float32(0)"
   ]
  },
  {
   "cell_type": "code",
   "execution_count": 14,
   "metadata": {},
   "outputs": [
    {
     "data": {
      "text/plain": [
       "nan"
      ]
     },
     "execution_count": 14,
     "metadata": {},
     "output_type": "execute_result"
    }
   ],
   "source": [
    "np.inf-np.inf"
   ]
  },
  {
   "cell_type": "code",
   "execution_count": 15,
   "metadata": {},
   "outputs": [
    {
     "name": "stdout",
     "output_type": "stream",
     "text": [
      "sgn=0 exp=11111111 mantissa=10000000000000000000000\n"
     ]
    },
    {
     "data": {
      "text/plain": [
       "(0, 255, 4194304)"
      ]
     },
     "execution_count": 15,
     "metadata": {},
     "output_type": "execute_result"
    }
   ],
   "source": [
    "float32_to_bin(np.nan)"
   ]
  },
  {
   "cell_type": "markdown",
   "metadata": {},
   "source": [
    "### Praktyczne wskazówki"
   ]
  },
  {
   "cell_type": "markdown",
   "metadata": {},
   "source": [
    "Kolejność działań ma znaczenie:"
   ]
  },
  {
   "cell_type": "code",
   "execution_count": 16,
   "metadata": {},
   "outputs": [
    {
     "data": {
      "text/plain": [
       "np.float64(1e-16)"
      ]
     },
     "execution_count": 16,
     "metadata": {},
     "output_type": "execute_result"
    }
   ],
   "source": [
    "e = np.float64(1e-16)\n",
    "e"
   ]
  },
  {
   "cell_type": "code",
   "execution_count": 17,
   "metadata": {
    "scrolled": true
   },
   "outputs": [
    {
     "data": {
      "text/plain": [
       "np.float64(1.0)"
      ]
     },
     "execution_count": 17,
     "metadata": {},
     "output_type": "execute_result"
    }
   ],
   "source": [
    "(np.float32(1.0) + e) + e"
   ]
  },
  {
   "cell_type": "code",
   "execution_count": 18,
   "metadata": {},
   "outputs": [
    {
     "data": {
      "text/plain": [
       "np.float64(1.0000000000000002)"
      ]
     },
     "execution_count": 18,
     "metadata": {},
     "output_type": "execute_result"
    }
   ],
   "source": [
    "np.float32(1.0) + (e + e)"
   ]
  },
  {
   "cell_type": "markdown",
   "metadata": {},
   "source": [
    "Wniosek: Sumujemy od najmniejszych"
   ]
  },
  {
   "cell_type": "markdown",
   "metadata": {},
   "source": [
    "Nie powinno się porównywać floatów bezpośrednio. Większość języków posiada funkcje do porówywania liczb zmiennoprzecinkowych z tolerancją, np. `isapprox` w Julii, `numpy.isclose` w Pythonie etc."
   ]
  },
  {
   "cell_type": "code",
   "execution_count": 19,
   "metadata": {},
   "outputs": [
    {
     "data": {
      "text/plain": [
       "False"
      ]
     },
     "execution_count": 19,
     "metadata": {},
     "output_type": "execute_result"
    }
   ],
   "source": [
    "0.1 + 0.2 == 0.3"
   ]
  },
  {
   "cell_type": "code",
   "execution_count": 20,
   "metadata": {},
   "outputs": [
    {
     "data": {
      "text/plain": [
       "np.True_"
      ]
     },
     "execution_count": 20,
     "metadata": {},
     "output_type": "execute_result"
    }
   ],
   "source": [
    "np.isclose(0.1 + 0.2, 0.3)"
   ]
  },
  {
   "cell_type": "markdown",
   "metadata": {},
   "source": [
    "## Przykłady"
   ]
  },
  {
   "cell_type": "code",
   "execution_count": 21,
   "metadata": {},
   "outputs": [
    {
     "data": {
      "text/plain": [
       "'0010111001100110'"
      ]
     },
     "execution_count": 21,
     "metadata": {},
     "output_type": "execute_result"
    }
   ],
   "source": [
    "np.binary_repr(np.float16(0.1).view(np.int16),width=16)"
   ]
  },
  {
   "cell_type": "code",
   "execution_count": 22,
   "metadata": {
    "scrolled": true
   },
   "outputs": [
    {
     "data": {
      "text/plain": [
       "'00111101110011001100110011001101'"
      ]
     },
     "execution_count": 22,
     "metadata": {},
     "output_type": "execute_result"
    }
   ],
   "source": [
    "np.binary_repr(np.float32(0.1).view(np.int32),width=32)"
   ]
  },
  {
   "cell_type": "code",
   "execution_count": 23,
   "metadata": {},
   "outputs": [
    {
     "data": {
      "text/plain": [
       "'0011111110111001100110011001100110011001100110011001100110011010'"
      ]
     },
     "execution_count": 23,
     "metadata": {},
     "output_type": "execute_result"
    }
   ],
   "source": [
    "np.binary_repr(np.float64(0.1).view(np.int64),width=64)"
   ]
  },
  {
   "cell_type": "code",
   "execution_count": 24,
   "metadata": {},
   "outputs": [
    {
     "name": "stdout",
     "output_type": "stream",
     "text": [
      "00000000000000000000000000000000\n",
      "00111111100000000000000000000000\n",
      "01000000000000000000000000000000\n",
      "01000000010000000000000000000000\n",
      "01000000100000000000000000000000\n",
      "01000000101000000000000000000000\n",
      "01000000110000000000000000000000\n",
      "01000000111000000000000000000000\n",
      "01000001000000000000000000000000\n",
      "01000001000100000000000000000000\n"
     ]
    }
   ],
   "source": [
    "# co ile liczby sa reprezentowane\n",
    "for i in range(10):\n",
    "    print(np.binary_repr(np.float32(np.nextafter(i,11)).view(np.int32),width=32))\n"
   ]
  },
  {
   "cell_type": "code",
   "execution_count": 25,
   "metadata": {},
   "outputs": [
    {
     "data": {
      "text/plain": [
       "np.float32(1.1920929e-07)"
      ]
     },
     "execution_count": 25,
     "metadata": {},
     "output_type": "execute_result"
    }
   ],
   "source": [
    "# Maszynowe epsilon mówi, jaki jest odstęp między kolejnymi liczbami zmiennoprzecinkowymi reprezentowanymi w komputerze\n",
    "np.finfo(np.float32).eps"
   ]
  },
  {
   "cell_type": "code",
   "execution_count": 26,
   "metadata": {},
   "outputs": [
    {
     "data": {
      "text/plain": [
       "np.float64(2.220446049250313e-16)"
      ]
     },
     "execution_count": 26,
     "metadata": {},
     "output_type": "execute_result"
    }
   ],
   "source": [
    "np.finfo(np.float64).eps"
   ]
  },
  {
   "cell_type": "code",
   "execution_count": 27,
   "metadata": {
    "nbgrader": {
     "grade": true,
     "grade_id": "cell-510e2987d5b4ebfc",
     "locked": false,
     "points": 2,
     "schema_version": 1,
     "solution": true
    }
   },
   "outputs": [
    {
     "name": "stdout",
     "output_type": "stream",
     "text": [
      "5e-34\n",
      "sgn=0 exp=00010000 mantissa=01001100010011101001100\n",
      "2.5e-34\n",
      "sgn=0 exp=00001111 mantissa=01001100010011101001100\n",
      "1.25e-34\n",
      "sgn=0 exp=00001110 mantissa=01001100010011101001100\n",
      "6.25e-35\n",
      "sgn=0 exp=00001101 mantissa=01001100010011101001100\n",
      "3.125e-35\n",
      "sgn=0 exp=00001100 mantissa=01001100010011101001100\n",
      "1.5625e-35\n",
      "sgn=0 exp=00001011 mantissa=01001100010011101001100\n",
      "7.8125e-36\n",
      "sgn=0 exp=00001010 mantissa=01001100010011101001100\n",
      "3.90625e-36\n",
      "sgn=0 exp=00001001 mantissa=01001100010011101001100\n",
      "1.953125e-36\n",
      "sgn=0 exp=00001000 mantissa=01001100010011101001100\n",
      "9.765625e-37\n",
      "sgn=0 exp=00000111 mantissa=01001100010011101001100\n",
      "4.8828126e-37\n",
      "sgn=0 exp=00000110 mantissa=01001100010011101001100\n",
      "2.4414063e-37\n",
      "sgn=0 exp=00000101 mantissa=01001100010011101001100\n",
      "1.2207032e-37\n",
      "sgn=0 exp=00000100 mantissa=01001100010011101001100\n",
      "6.103516e-38\n",
      "sgn=0 exp=00000011 mantissa=01001100010011101001100\n",
      "3.051758e-38\n",
      "sgn=0 exp=00000010 mantissa=01001100010011101001100\n",
      "1.525879e-38\n",
      "sgn=0 exp=00000001 mantissa=01001100010011101001100\n",
      "7.629395e-39\n",
      "sgn=0 exp=00000000 mantissa=10100110001001110100110\n",
      "3.814697e-39\n",
      "sgn=0 exp=00000000 mantissa=01010011000100111010011\n",
      "1.90735e-39\n",
      "sgn=0 exp=00000000 mantissa=00101001100010011101010\n",
      "9.53675e-40\n",
      "sgn=0 exp=00000000 mantissa=00010100110001001110101\n",
      "4.76837e-40\n",
      "sgn=0 exp=00000000 mantissa=00001010011000100111010\n",
      "2.38418e-40\n",
      "sgn=0 exp=00000000 mantissa=00000101001100010011101\n",
      "1.19208e-40\n",
      "sgn=0 exp=00000000 mantissa=00000010100110001001110\n",
      "5.9604e-41\n",
      "sgn=0 exp=00000000 mantissa=00000001010011000100111\n",
      "2.9803e-41\n",
      "sgn=0 exp=00000000 mantissa=00000000101001100010100\n",
      "1.4901e-41\n",
      "sgn=0 exp=00000000 mantissa=00000000010100110001010\n",
      "7.451e-42\n",
      "sgn=0 exp=00000000 mantissa=00000000001010011000101\n",
      "3.725e-42\n",
      "sgn=0 exp=00000000 mantissa=00000000000101001100010\n",
      "1.862e-42\n",
      "sgn=0 exp=00000000 mantissa=00000000000010100110001\n",
      "9.3e-43\n",
      "sgn=0 exp=00000000 mantissa=00000000000001010011000\n",
      "4.65e-43\n",
      "sgn=0 exp=00000000 mantissa=00000000000000101001100\n",
      "2.33e-43\n",
      "sgn=0 exp=00000000 mantissa=00000000000000010100110\n",
      "1.16e-43\n",
      "sgn=0 exp=00000000 mantissa=00000000000000001010011\n",
      "5.9e-44\n",
      "sgn=0 exp=00000000 mantissa=00000000000000000101010\n",
      "3e-44\n",
      "sgn=0 exp=00000000 mantissa=00000000000000000010101\n",
      "1.4e-44\n",
      "sgn=0 exp=00000000 mantissa=00000000000000000001010\n",
      "7e-45\n",
      "sgn=0 exp=00000000 mantissa=00000000000000000000101\n",
      "3e-45\n",
      "sgn=0 exp=00000000 mantissa=00000000000000000000010\n",
      "1e-45\n",
      "sgn=0 exp=00000000 mantissa=00000000000000000000001\n",
      "0.0\n",
      "sgn=0 exp=00000000 mantissa=00000000000000000000000\n"
     ]
    }
   ],
   "source": [
    "# Badanie postaci zdenormalizowanej. Co się dzieje, jak liczby są coraz mniejsze?\n",
    "a = np.float32(1e-33)\n",
    "while a > 0:\n",
    "    a = a/np.float32(2.0)\n",
    "    print(a)\n",
    "    float32_to_bin(a)\n"
   ]
  },
  {
   "cell_type": "code",
   "execution_count": 28,
   "metadata": {},
   "outputs": [],
   "source": [
    "#Rysowanie wykresów scatterplot\n",
    "\n",
    "import matplotlib.pyplot as plt"
   ]
  },
  {
   "cell_type": "code",
   "execution_count": 29,
   "metadata": {},
   "outputs": [
    {
     "data": {
      "text/plain": [
       "<matplotlib.collections.PathCollection at 0x756ceff47e00>"
      ]
     },
     "execution_count": 29,
     "metadata": {},
     "output_type": "execute_result"
    },
    {
     "data": {
      "image/png": "[encoded data removed]",
      "text/plain": [
       "<Figure size 640x480 with 1 Axes>"
      ]
     },
     "metadata": {},
     "output_type": "display_data"
    }
   ],
   "source": [
    "plt.scatter(range(5), [2,2,3,3,5])"
   ]
  },
  {
   "cell_type": "markdown",
   "metadata": {},
   "source": [
    "## Bonus"
   ]
  },
  {
   "cell_type": "markdown",
   "metadata": {},
   "source": [
    "Ciekawe zastosowanie znajomości IEEE-754 do obliczania odwrotności pierwiastka, wykorzystane w grze Quake 3: [filmik](https://youtu.be/p8u_k2LIZyo)"
   ]
  },
  {
   "cell_type": "markdown",
   "metadata": {},
   "source": [
    "# Zadania"
   ]
  },
  {
   "cell_type": "markdown",
   "metadata": {},
   "source": [
    "### Zadanie 1"
   ]
  },
  {
   "cell_type": "markdown",
   "metadata": {},
   "source": [
    "Porównać w języku python reprezentację bitową liczby 1/3 dla `np.float16`, `np.float32`, `np.float64` oraz liczby, \n",
    "która jest inicjalizowana jako `np.float16`, a potem rzutowana na `np.float64`."
   ]
  },
  {
   "cell_type": "markdown",
   "metadata": {},
   "source": [
    "##### __Rozwiązanie__"
   ]
  },
  {
   "cell_type": "code",
   "execution_count": 30,
   "metadata": {},
   "outputs": [],
   "source": [
    "num = 1\n",
    "denom = 3"
   ]
  },
  {
   "cell_type": "markdown",
   "metadata": {},
   "source": [
    "1. ```np.float16```"
   ]
  },
  {
   "cell_type": "code",
   "execution_count": 31,
   "metadata": {},
   "outputs": [
    {
     "data": {
      "text/plain": [
       "'0011010101010101'"
      ]
     },
     "execution_count": 31,
     "metadata": {},
     "output_type": "execute_result"
    }
   ],
   "source": [
    "np.binary_repr(np.float16(num/denom).view(np.int16),width=16)"
   ]
  },
  {
   "cell_type": "markdown",
   "metadata": {},
   "source": [
    "2. ```np.float32```"
   ]
  },
  {
   "cell_type": "code",
   "execution_count": 32,
   "metadata": {},
   "outputs": [
    {
     "data": {
      "text/plain": [
       "'00111110101010101010101010101011'"
      ]
     },
     "execution_count": 32,
     "metadata": {},
     "output_type": "execute_result"
    }
   ],
   "source": [
    "np.binary_repr(np.float32(num/denom).view(np.int32),width=32)"
   ]
  },
  {
   "cell_type": "markdown",
   "metadata": {},
   "source": [
    "3. ```np.float64```"
   ]
  },
  {
   "cell_type": "code",
   "execution_count": 33,
   "metadata": {},
   "outputs": [
    {
     "data": {
      "text/plain": [
       "'0011111111010101010101010101010101010101010101010101010101010101'"
      ]
     },
     "execution_count": 33,
     "metadata": {},
     "output_type": "execute_result"
    }
   ],
   "source": [
    "np.binary_repr(np.float64(num/denom).view(np.int64),width=64)"
   ]
  },
  {
   "cell_type": "markdown",
   "metadata": {},
   "source": [
    "4. Rzutowanie"
   ]
  },
  {
   "cell_type": "code",
   "execution_count": 34,
   "metadata": {},
   "outputs": [
    {
     "name": "stdout",
     "output_type": "stream",
     "text": [
      "float16: 0011010101010101\n",
      "float64: 0011111111010101010101000000000000000000000000000000000000000000\n"
     ]
    }
   ],
   "source": [
    "val_f16 = np.float16(num/denom)\n",
    "print(f\"float16: {np.binary_repr(val_f16.view(np.int16), width=16)}\")\n",
    "\n",
    "# cast\n",
    "val_f64 = np.float64(val_f16)\n",
    "\n",
    "print(f\"float64: {np.binary_repr(val_f64.view(np.int64), width=64)}\")"
   ]
  },
  {
   "cell_type": "markdown",
   "metadata": {},
   "source": [
    "### Zadanie 2"
   ]
  },
  {
   "cell_type": "markdown",
   "metadata": {},
   "source": [
    "Zbadać, jak zmienia się odległość między kolejnymi liczbami zmiennoprzecinkowymi \n",
    "reprezentowanymi w komputerze za pomocą języka python. \n",
    "Narysować wykres używając `matplotlib.pyplot` zależności odległości od wartości liczby dla zakresu  od 1.0 do 1 000 000.0."
   ]
  },
  {
   "cell_type": "markdown",
   "metadata": {},
   "source": [
    "##### __Rozwiązanie__"
   ]
  },
  {
   "cell_type": "code",
   "execution_count": 35,
   "metadata": {},
   "outputs": [
    {
     "data": {
      "image/png": "[encoded data removed]",
      "text/plain": [
       "<Figure size 640x480 with 1 Axes>"
      ]
     },
     "metadata": {},
     "output_type": "display_data"
    }
   ],
   "source": [
    "start = np.float32(1.0)\n",
    "stop = np.float32(1e6)\n",
    "size = 5\n",
    "\n",
    "nums = np.linspace(start, stop, size)\n",
    "nexts = np.nextafter(nums, np.inf)\n",
    "dists = nexts - nums\n",
    "\n",
    "plt.title(\"odległości pomiędzy kolejnymi floatami\")\n",
    "plt.xlabel(\"wartości liczb\")\n",
    "plt.ylabel(\"odległości\")\n",
    "plt.scatter(x = nums, y = dists)\n",
    "plt.show()"
   ]
  },
  {
   "cell_type": "markdown",
   "metadata": {},
   "source": [
    "### Zadanie 3"
   ]
  },
  {
   "cell_type": "markdown",
   "metadata": {},
   "source": [
    "Jedną z bibliotek numerycznych, jaką dodatkowo będziemy używać na zajęciach jest <a href=\"http://www.gnu.org/software/gsl/gsl.html\">GSL</a> (język C). Opis <a href=\"https://www.gnu.org/software/gsl/doc/html/usage.html\"> jak używać </a>. Korzystając ze <a href=\"https://www.gnu.org/software/gsl/doc/html/ieee754.html\"> wsparcia dla wyświetlania reprezentacji liczb zmiennoprzecinkowych</a> zobaczyć jak zmienia się cecha i mantysa dla coraz mniejszych liczb. Zaobserwować, kiedy mantysa przestaje być znormalizowana i dlaczego?\n",
    "\n",
    "Kod załączyć jako komórka Markdown sformatowana jako C ([link](https://github.com/adam-p/markdown-here/wiki/Markdown-Cheatsheet#code)). Wynik także jako Markdown (kod albo fragment zrzutu ekranu)."
   ]
  },
  {
   "cell_type": "markdown",
   "metadata": {},
   "source": [
    "##### __Rozwiązanie__"
   ]
  },
  {
   "cell_type": "markdown",
   "metadata": {},
   "source": [
    "##### Kod w języku C"
   ]
  },
  {
   "cell_type": "markdown",
   "metadata": {},
   "source": [
    "```c\n",
    "// check_float_repr_change.c\n",
    "\n",
    "#include <gsl/gsl_ieee_utils.h>\n",
    "\n",
    "int main() {\n",
    "    float value = 1e-5;\n",
    "\n",
    "    for (int itterations = 0; itterations < 100; itterations++) {\n",
    "        if (value <= 0)\n",
    "            break;\n",
    "\n",
    "        printf(\"value: \"); gsl_ieee_printf_float(&value);\n",
    "        printf(\"\\n\");\n",
    "\n",
    "        value /= 10;\n",
    "    }\n",
    "\n",
    "    return 0;\n",
    "}\n",
    "\n",
    "```"
   ]
  },
  {
   "cell_type": "markdown",
   "metadata": {},
   "source": [
    "##### Wynik działania kodu"
   ]
  },
  {
   "cell_type": "markdown",
   "metadata": {},
   "source": [
    "value:  1.01001111100010110101100*2^-17\n",
    "\n",
    "value:  1.00001100011011110111101*2^-20\n",
    "\n",
    "value:  1.10101101011111110010101*2^-24\n",
    "\n",
    "value:  1.01010111100110001110111*2^-27\n",
    "\n",
    "value:  1.00010010111000001011111*2^-30\n",
    "\n",
    "value:  1.10110111110011011111110*2^-34\n",
    "\n",
    "value:  1.01011111110101111111110*2^-37\n",
    "\n",
    "value:  1.00011001011110011001011*2^-40\n",
    "\n",
    "value:  1.11000010010111000010010*2^-44\n",
    "\n",
    "value:  1.01101000010010011011011*2^-47\n",
    "\n",
    "value:  1.00100000001110101111100*2^-50\n",
    "\n",
    "value:  1.11001101001010110010011*2^-54\n",
    "\n",
    "value:  1.01110000111011110101001*2^-57\n",
    "\n",
    "value:  1.00100111001001011101110*2^-60\n",
    "\n",
    "value:  1.11011000001111001001010*2^-64\n",
    "\n",
    "value:  1.01111001110010100001000*2^-67\n",
    "\n",
    "value:  1.00101110001110110100000*2^-70\n",
    "\n",
    "value:  1.11100011100100100000000*2^-74\n",
    "\n",
    "value:  1.10000010110110110011010*2^-77\n",
    "\n",
    "value:  1.00110101011111000010101*2^-80\n",
    "\n",
    "value:  1.11101111001011010001000*2^-84\n",
    "\n",
    "value:  1.10001100001001000000110*2^-87\n",
    "\n",
    "value:  1.00111100111010011010010*2^-90\n",
    "\n",
    "value:  1.11111011000011110110110*2^-94\n",
    "\n",
    "value:  1.10010101101001011111000*2^-97\n",
    "\n",
    "value:  1.01000100100001001100000*2^-100\n",
    "\n",
    "value:  1.00000011100111010110011*2^-103\n",
    "\n",
    "value:  1.10011111011000100011110*2^-107\n",
    "\n",
    "value:  1.01001100010011101001011*2^-110\n",
    "\n",
    "value:  1.00001001110110000111100*2^-113\n",
    "\n",
    "value:  1.10101001010110100101101*2^-117\n",
    "\n",
    "value:  1.01010100010010000100100*2^-120\n",
    "\n",
    "value:  1.00010000001110011101010*2^-123\n",
    "\n",
    "value:  0.11011001110001111101110*2^-126\n",
    "\n",
    "value:  0.00010101110001110011000*2^-126\n",
    "\n",
    "value:  0.00000010001011011000010*2^-126\n",
    "\n",
    "value:  0.00000000001101111100000*2^-126\n",
    "\n",
    "value:  0.00000000000001011001010*2^-126\n",
    "\n",
    "value:  0.00000000000000001000111*2^-126\n",
    "\n",
    "value:  0.00000000000000000000111*2^-126\n",
    "\n",
    "value:  0.00000000000000000000001*2^-126"
   ]
  },
  {
   "cell_type": "markdown",
   "metadata": {},
   "source": [
    "Możemy zauważyć, że denormalizacja następuje kiedy $ 2^{cecha - bias} = 2^{-126} $, ponieważ wówczas zaczynaja się kończyć zakres cechy (cecha jest równa 00000001 w reprezentacji binarnej). Dzięki denormalizacji jesteśmy w stanie reprezentować liczby jeszcze o kilka rzędów mniejszych od możliwych w przypadku znormalizowanym."
   ]
  },
  {
   "cell_type": "markdown",
   "metadata": {},
   "source": [
    "### Zadanie 4"
   ]
  },
  {
   "cell_type": "markdown",
   "metadata": {},
   "source": [
    "Na przykładzie wybranego algorytmu niestabilnego numerycznie: \n",
    "1. Pokazać, że działa źle.\n",
    "2. Pokazać które konkretnie działania powodują zwiększenie błędu (np. dzielenie przez małą liczbę, cancellation).\n",
    "3. Zademonstować wersję stabilną.\n",
    "\n",
    "Wszystkie punkty przedstawić w postaci notatnika Jupytera w pythonie."
   ]
  },
  {
   "cell_type": "markdown",
   "metadata": {},
   "source": [
    "##### __Rozwiązanie__"
   ]
  },
  {
   "cell_type": "markdown",
   "metadata": {},
   "source": [
    "Zbadajmy funkcje $ f(x) = 1 - cos(x) $"
   ]
  },
  {
   "cell_type": "markdown",
   "metadata": {},
   "source": [
    "1. Algorytm niestabilny\n",
    "\n",
    "Aby obliczyć wartość tej funkcji dla $ x = 5 \\cdot 10 ^ {-4} $ możemy skorzystać bezpośrednio z podanej postaci funkcji."
   ]
  },
  {
   "cell_type": "code",
   "execution_count": 104,
   "metadata": {},
   "outputs": [
    {
     "name": "stdout",
     "output_type": "stream",
     "text": [
      "1.1920929e-07\n",
      "1.1920929e-07\n"
     ]
    }
   ],
   "source": [
    "x = np.float32(5e-4)\n",
    "f_unstable = lambda x: 1 - np.cos(x)\n",
    "print(f_unstable(x))\n",
    "print(np.finfo(np.float32).eps)"
   ]
  },
  {
   "cell_type": "markdown",
   "metadata": {},
   "source": [
    "Obliczona wartość jest niepoprawna, gdyż prawdziwym wynikiem wartości tej funkcji według _Wolfram Alpha_ jest $ 1.24999997 \\cdot 10 ^ {-7} $ \\\n",
    "Możemy również zauważyć, że obliczona wartość jest równa błędowi maszynowemu co dodatkow potwierdza podejrzenie o niepoprawności wyniku. "
   ]
  },
  {
   "cell_type": "markdown",
   "metadata": {},
   "source": [
    "2. Powód błędu\n",
    "\n",
    "Powodem obserwowanego błędu jest _cancelation_, czyli odjęcie od siebie liczb bardzo do siebie zbliżonych (wartość cosinusa zmierza do 1 przy x dążących do 0)."
   ]
  },
  {
   "cell_type": "markdown",
   "metadata": {},
   "source": [
    "3. Algorytm stabilny\n",
    "\n",
    "Badaną funkcję możemy przekształcić do postaci równoważnej: $ f(x) = 1 - cos(x) = 1 - (1 - 2 \\cdot sin^2(\\frac{x}{2})) = 2 \\cdot sin^2(\\frac{x}{2}) $, dzięki czemu unikniemy odejmowania"
   ]
  },
  {
   "cell_type": "code",
   "execution_count": 107,
   "metadata": {},
   "outputs": [
    {
     "name": "stdout",
     "output_type": "stream",
     "text": [
      "1.2500001e-07\n"
     ]
    }
   ],
   "source": [
    "f_stable = lambda x: 2 * (np.sin(x/2) ** 2)\n",
    "print(f_stable(x))"
   ]
  },
  {
   "cell_type": "markdown",
   "metadata": {},
   "source": [
    "Możemy zauważyć, że dzięki przekształceniu uzyskaliśmy wynik dużo lepiej zbliżony do rzeczywistego."
   ]
  }
 ],
 "metadata": {
  "kernelspec": {
   "display_name": "mownit_env",
   "language": "python",
   "name": "python3"
  },
  "language_info": {
   "codemirror_mode": {
    "name": "ipython",
    "version": 3
   },
   "file_extension": ".py",
   "mimetype": "text/x-python",
   "name": "python",
   "nbconvert_exporter": "python",
   "pygments_lexer": "ipython3",
   "version": "3.12.3"
  }
 },
 "nbformat": 4,
 "nbformat_minor": 4
}
