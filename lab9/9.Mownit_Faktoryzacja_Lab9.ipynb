{
 "cells": [
  {
   "cell_type": "markdown",
   "metadata": {},
   "source": [
    "# MOwNiT - Wybrane zagadnienia algebry liniowej i faktoryzacja"
   ]
  },
  {
   "cell_type": "markdown",
   "metadata": {},
   "source": [
    "Biblioteką w pythonie do algebry liniowej są:\n",
    "- `numpy.linalg` https://numpy.org/doc/stable/reference/routines.linalg.html\n",
    "- `scipy.linalg` https://docs.scipy.org/doc/scipy/reference/linalg.html\n"
   ]
  },
  {
   "cell_type": "code",
   "execution_count": 1,
   "metadata": {},
   "outputs": [],
   "source": [
    "import numpy as np\n",
    "import scipy as sc"
   ]
  },
  {
   "cell_type": "markdown",
   "metadata": {},
   "source": [
    "### Sposoby rozwiązania równań macierzowych Ax=b"
   ]
  },
  {
   "cell_type": "code",
   "execution_count": 2,
   "metadata": {},
   "outputs": [
    {
     "name": "stdout",
     "output_type": "stream",
     "text": [
      "[[0 6 7 7]\n",
      " [8 8 9 5]\n",
      " [0 5 0 3]\n",
      " [0 3 6 2]]\n",
      "[3 7 7 8]\n"
     ]
    }
   ],
   "source": [
    "A=np.random.randint(0,10,(4,4))\n",
    "print(A)\n",
    "\n",
    "b=np.random.randint(0,10,4)\n",
    "print(b)"
   ]
  },
  {
   "cell_type": "markdown",
   "metadata": {},
   "source": [
    "Metoda macierzy odwrotnej:\n",
    "$$Ax=b\\ \\Rightarrow\\ x=A^{-1}b$$"
   ]
  },
  {
   "cell_type": "code",
   "execution_count": 3,
   "metadata": {},
   "outputs": [
    {
     "data": {
      "text/plain": [
       "array([-1.27631579,  3.26315789,  0.73684211, -3.10526316])"
      ]
     },
     "execution_count": 3,
     "metadata": {},
     "output_type": "execute_result"
    }
   ],
   "source": [
    "#mozemy policzyc odwrotność macierzy i wymnożyć\n",
    "# uwaga: nieefektywne!\n",
    "(np.linalg.inv(A)).dot(b)"
   ]
  },
  {
   "cell_type": "code",
   "execution_count": 4,
   "metadata": {},
   "outputs": [
    {
     "name": "stdout",
     "output_type": "stream",
     "text": [
      "[-1.27631579  3.26315789  0.73684211 -3.10526316]\n"
     ]
    }
   ],
   "source": [
    "#najlepiej używać dedykowanej funkcji solve\n",
    "x=np.linalg.solve(A,b)\n",
    "print(x)"
   ]
  },
  {
   "cell_type": "markdown",
   "metadata": {},
   "source": [
    "### Faktoryzacja LU"
   ]
  },
  {
   "cell_type": "code",
   "execution_count": 5,
   "metadata": {},
   "outputs": [
    {
     "name": "stdout",
     "output_type": "stream",
     "text": [
      "[[0. 1. 0. 0.]\n",
      " [1. 0. 0. 0.]\n",
      " [0. 0. 1. 0.]\n",
      " [0. 0. 0. 1.]]\n",
      "[[ 1.          0.          0.          0.        ]\n",
      " [ 0.          1.          0.          0.        ]\n",
      " [ 0.          0.83333333  1.          0.        ]\n",
      " [ 0.          0.5        -0.42857143  1.        ]]\n",
      "[[ 8.          8.          9.          5.        ]\n",
      " [ 0.          6.          7.          7.        ]\n",
      " [ 0.          0.         -5.83333333 -2.83333333]\n",
      " [ 0.          0.          0.         -2.71428571]]\n"
     ]
    }
   ],
   "source": [
    "# W przypadku ogólnej macierzy kwadratowej jest to faktoryzacja LU z pivotem\n",
    "P,L,U=sc.linalg.lu(A)\n",
    "print(P) #macierz permutacji\n",
    "print(L) #dolna trójkątna\n",
    "print(U) #górna trójkątna"
   ]
  },
  {
   "cell_type": "markdown",
   "metadata": {},
   "source": [
    "### Faktoryzacja QR\n"
   ]
  },
  {
   "cell_type": "code",
   "execution_count": 6,
   "metadata": {},
   "outputs": [
    {
     "name": "stdout",
     "output_type": "stream",
     "text": [
      "[[2 2 0 9 7]\n",
      " [5 4 6 1 6]\n",
      " [2 0 4 4 5]\n",
      " [1 1 2 4 4]\n",
      " [9 8 7 8 2]\n",
      " [7 3 4 1 8]\n",
      " [5 6 3 0 5]\n",
      " [5 0 2 9 2]\n",
      " [1 9 0 7 5]\n",
      " [2 3 3 0 1]]\n"
     ]
    }
   ],
   "source": [
    "B=np.random.randint(0,10,(10,5))\n",
    "print(B)"
   ]
  },
  {
   "cell_type": "code",
   "execution_count": 7,
   "metadata": {},
   "outputs": [
    {
     "name": "stdout",
     "output_type": "stream",
     "text": [
      "[[-0.13514748 -0.05148237  0.30785997 -0.4983876   0.40159434]\n",
      " [-0.33786869 -0.02803951 -0.47793289  0.1095806   0.20970223]\n",
      " [-0.13514748  0.14985047 -0.52505412 -0.36065297  0.2462611 ]\n",
      " [-0.06757374 -0.02574119 -0.2616329  -0.3110565   0.20325231]\n",
      " [-0.60816364 -0.13100425 -0.0699944  -0.07579914 -0.61649436]\n",
      " [-0.47301616  0.22247739  0.24280749  0.33949166  0.46387387]\n",
      " [-0.33786869 -0.22937235  0.14719975  0.39146152  0.1804254 ]\n",
      " [-0.33786869  0.37462618  0.34961624 -0.4191137  -0.20833102]\n",
      " [-0.06757374 -0.83107255  0.16108326 -0.23722813  0.10299361]\n",
      " [-0.13514748 -0.15214879 -0.3145902   0.08123716 -0.10480382]]\n",
      "[[-14.79864859 -11.01451927 -10.94694553 -11.21724048 -11.75783038]\n",
      " [  0.          -9.93379914  -0.04274875  -3.26637253  -3.06963633]\n",
      " [  0.           0.          -4.81274933   3.10304005  -0.65585134]\n",
      " [  0.           0.           0.         -12.76226739  -3.30020873]\n",
      " [  0.           0.           0.           0.           9.4873199 ]]\n"
     ]
    }
   ],
   "source": [
    "# Domyślna faktoryzacja QR macierzy MxN zwraca Q wymiaru MxK, R wymiaru KxN gdzie K=min(M,N)\n",
    "\n",
    "Q,R=np.linalg.qr(B)\n",
    "print(Q)\n",
    "print(R)"
   ]
  },
  {
   "cell_type": "code",
   "execution_count": 8,
   "metadata": {},
   "outputs": [
    {
     "name": "stdout",
     "output_type": "stream",
     "text": [
      "[[-1.35147476e-01 -5.14823702e-02  3.07859970e-01 -4.98387603e-01\n",
      "   4.01594344e-01 -4.58858535e-01 -1.93551410e-01 -3.91055528e-01\n",
      "  -2.37936722e-01  1.30717755e-01]\n",
      " [-3.37868689e-01 -2.80395052e-02 -4.77932893e-01  1.09580599e-01\n",
      "   2.09702225e-01 -1.68403876e-01 -3.61713627e-01  4.03171954e-01\n",
      "  -4.70934563e-01 -2.39023332e-01]\n",
      " [-1.35147476e-01  1.49850471e-01 -5.25054120e-01 -3.60652974e-01\n",
      "   2.46261097e-01 -1.56842024e-01  1.72904910e-01 -2.17664324e-02\n",
      "   6.38858532e-01 -1.72550112e-01]\n",
      " [-6.75737378e-02 -2.57411851e-02 -2.61632901e-01 -3.11056498e-01\n",
      "   2.03252313e-01  5.77978438e-01  4.66383482e-01 -1.80631168e-01\n",
      "  -4.39291611e-01  1.05234943e-01]\n",
      " [-6.08163641e-01 -1.31004246e-01 -6.99943966e-02 -7.57991436e-02\n",
      "  -6.16494363e-01  2.85326112e-02 -7.31443488e-02 -4.24953398e-01\n",
      "   8.21177327e-04 -1.88453118e-01]\n",
      " [-4.73016165e-01  2.22477386e-01  2.42807485e-01  3.39491665e-01\n",
      "   4.63873870e-01  4.27280091e-01 -2.56625355e-01 -1.30467331e-01\n",
      "   2.53611146e-01  8.72083760e-02]\n",
      " [-3.37868689e-01 -2.29372346e-01  1.47199754e-01  3.91461521e-01\n",
      "   1.80425397e-01 -3.85430368e-01  6.85546981e-01  7.01766499e-02\n",
      "  -3.25847204e-02 -3.53850818e-02]\n",
      " [-3.37868689e-01  3.74626176e-01  3.49616242e-01 -4.19113700e-01\n",
      "  -2.08331020e-01  3.17525138e-02  1.41303462e-01  6.02853844e-01\n",
      "  -2.06162638e-04  1.40721933e-01]\n",
      " [-6.75737378e-02 -8.31072548e-01  1.61083258e-01 -2.37228127e-01\n",
      "   1.02993608e-01  2.38895919e-01 -1.26204037e-01  2.90046875e-01\n",
      "   2.22253182e-01 -7.34652306e-02]\n",
      " [-1.35147476e-01 -1.52148791e-01 -3.14590200e-01  8.12371614e-02\n",
      "  -1.04803820e-01 -1.11409364e-01 -8.49469491e-02  3.65339384e-02\n",
      "   7.55767114e-02  9.02973419e-01]]\n",
      "[[-14.79864859 -11.01451927 -10.94694553 -11.21724048 -11.75783038]\n",
      " [  0.          -9.93379914  -0.04274875  -3.26637253  -3.06963633]\n",
      " [  0.           0.          -4.81274933   3.10304005  -0.65585134]\n",
      " [  0.           0.           0.         -12.76226739  -3.30020873]\n",
      " [  0.           0.           0.           0.           9.4873199 ]\n",
      " [  0.           0.           0.           0.           0.        ]\n",
      " [  0.           0.           0.           0.           0.        ]\n",
      " [  0.           0.           0.           0.           0.        ]\n",
      " [  0.           0.           0.           0.           0.        ]\n",
      " [  0.           0.           0.           0.           0.        ]]\n"
     ]
    }
   ],
   "source": [
    "# jeżeli chcemy otrzymać Q wymiaru MxM, R wymiaru MxN trzeba wybrać mode=`complete`\n",
    "Qc,Rc=np.linalg.qr(B,mode='complete')\n",
    "print(Qc)\n",
    "print(Rc)"
   ]
  },
  {
   "cell_type": "markdown",
   "metadata": {},
   "source": [
    "### Zastosowanie faktoryzacji do metody najmniejszych kwadratów\n",
    "\n",
    "Jednym z zastosowań faktoryzacji QR jest użycie jej do metody najmniejszych kwadratów.\n",
    "\n",
    "Przykład:\n",
    "\n",
    "Obliczmy dopasowanie wielomianu $$f(x)=a_2*x^2+a_1*x+a_0$$ do punktów (1,1) (2,2) (3,4) (4, 4) (5,3) (6,0)\n",
    "\n",
    "- Budujemy układ równań wg wzoru $$a_2x_i^2+a_1x_i+a_0=y_i$$:\n",
    "$$a_2*1^2+a_1*1+a_0=1$$\n",
    "$$a_2*2^2+a_1*2+a_0=2$$\n",
    "$$a_2*3^2+a_1*3+a_0=4$$\n",
    "$$a_2*4^2+a_1*4+a_0=4$$\n",
    "$$a_2*5^2+a_1*5+a_0=3$$\n",
    "$$a_2*6^2+a_1*6+a_0=0$$\n",
    "\n",
    "- Układ ten  nie ma dokładnego rozwiązania. Możemy jednak znaleźć najlepsze przybliżenie, czyli takie $a_i$, które minimalizują odległość:\n",
    "\n",
    "$$\\sqrt{\\sum_{i=1}^{6}{(y_i-f(x_i))^2}}=\\lVert y-A*a\\rVert$$\n",
    "\n",
    "\n",
    "\n"
   ]
  },
  {
   "cell_type": "markdown",
   "metadata": {},
   "source": [
    "Jak użyć do tej mimalizacji faktoryzacji QR:\n",
    "\n",
    "1. Tworzymy macierz A współczynników równania\n",
    "\n",
    "2. Dokonujemy faktoryzacji QR macierzy A \n",
    "\n",
    "3. Mamy równanie:\n",
    "$$A*a=y$$\n",
    "Dla $A=QR$:\n",
    "$$QR*a =y$$\n",
    "Możemy obydwie strony wymnożyć z lewej przez $Q^T$:\n",
    "$$R*a =Q^T y$$\n",
    "$$\\begin{pmatrix} R \\\\ 0 \\end{pmatrix} a= Q^T y$$\n",
    "\n",
    "Poszukiwanym rozwiązaniem jest rozwiązanie równania będącego górną niezerową częścią:\n",
    "$$R * a= Q^T y[1:n]$$\n",
    "$$a=R \\setminus Q^T y[1:n]$$"
   ]
  },
  {
   "cell_type": "markdown",
   "metadata": {},
   "source": [
    "Więcej informacji:\n",
    "- http://www.math.uconn.edu/~leykekhman/courses/MATH3795/Lectures/Lecture_8_Linear_least_squares_orthogonal_matrices.pdf\n",
    "- http://www.seas.ucla.edu/~vandenbe/133A/lectures/qr.pdf"
   ]
  },
  {
   "cell_type": "markdown",
   "metadata": {},
   "source": [
    "## Zadanie 1 (2pkt)\n",
    "Ustal losowe (referencyjne) x rozmiaru 1000 oraz losowe A rozmiaru 1000x1000, policz b=A*x.\n",
    "Nastepnie rozwiąż równanie Ax=b trzema metodami:\n",
    "- metodą macierzy odwrotnej\n",
    "- funkcją `solve`\n",
    "- z wykorzystaniem wybranej faktoryzacji\n",
    "\n",
    "Porównaj jakość wyniku (zmierzoną jako długość różnicy wektorów wyniku oraz referencyjnego x) oraz czas wykonania (@timeit)."
   ]
  },
  {
   "cell_type": "code",
   "execution_count": 9,
   "metadata": {},
   "outputs": [],
   "source": [
    "import timeit"
   ]
  },
  {
   "cell_type": "code",
   "execution_count": 10,
   "metadata": {},
   "outputs": [],
   "source": [
    "def measure_execution_time(function, *data):\n",
    "    return timeit.timeit(lambda: function(*data), number=1)"
   ]
  },
  {
   "cell_type": "code",
   "execution_count": 11,
   "metadata": {},
   "outputs": [],
   "source": [
    "def test_sol(A, b, x_ref, func):\n",
    "    x_sol = func(A, b)\n",
    "    assert np.allclose(x_sol, x_ref), \"Wrong solution!!!\"\n",
    "\n",
    "    print(f\"execution time [s]: {measure_execution_time(func, A, b)}\")\n",
    "    print(f\"solution quality: {np.linalg.norm(x_sol - x_ref)}\")"
   ]
  },
  {
   "cell_type": "code",
   "execution_count": 12,
   "metadata": {},
   "outputs": [],
   "source": [
    "low, high,n = 0, 10, 1000\n",
    "x = np.random.uniform(low, high, size = (n, 1))\n",
    "A = np.random.uniform(low, high, size = (n, n))\n",
    "b = A @ x"
   ]
  },
  {
   "cell_type": "markdown",
   "metadata": {},
   "source": [
    "1. Metoda macierzy odwrotnej"
   ]
  },
  {
   "cell_type": "code",
   "execution_count": 13,
   "metadata": {},
   "outputs": [
    {
     "name": "stdout",
     "output_type": "stream",
     "text": [
      "execution time [s]: 0.08430441600103222\n",
      "solution quality: 1.0053583372748998e-08\n"
     ]
    }
   ],
   "source": [
    "def solve_inv(A, b):\n",
    "    return np.linalg.inv(A) @ b\n",
    "\n",
    "test_sol(A, b, x, solve_inv)"
   ]
  },
  {
   "cell_type": "markdown",
   "metadata": {},
   "source": [
    "2. Funkcja ```solve```"
   ]
  },
  {
   "cell_type": "code",
   "execution_count": 14,
   "metadata": {},
   "outputs": [
    {
     "name": "stdout",
     "output_type": "stream",
     "text": [
      "execution time [s]: 0.04326885100090294\n",
      "solution quality: 5.5813132070100336e-11\n"
     ]
    }
   ],
   "source": [
    "def solve_solve(A, b):\n",
    "    return np.linalg.solve(A, b)\n",
    "\n",
    "test_sol(A, b, x, solve_solve)"
   ]
  },
  {
   "cell_type": "markdown",
   "metadata": {},
   "source": [
    "3. Faktoryzacja"
   ]
  },
  {
   "cell_type": "code",
   "execution_count": 15,
   "metadata": {},
   "outputs": [
    {
     "name": "stdout",
     "output_type": "stream",
     "text": [
      "execution time [s]: 0.4979060829991795\n",
      "solution quality: 2.8425439399487207e-10\n"
     ]
    }
   ],
   "source": [
    "def solve_factorization(A, b):\n",
    "    Q, R = sc.linalg.qr(A)\n",
    "    return np.linalg.inv(R) @ Q.T @ b\n",
    "\n",
    "test_sol(A, b, x, solve_factorization)"
   ]
  },
  {
   "cell_type": "markdown",
   "metadata": {},
   "source": [
    "## Zadanie 2 (1pkt)\n",
    "Policz współczynniki wielomianu aproksymującego dowolne dane z poprzednich laboratoriów tworząc wprost układ równań i rozwiązujac go (metoda z użyciem faktoryzacji QR zaprezentowana na tym laboratorium).\n",
    "Porównaj wyniki z tymi otrzymanymi poprzednio."
   ]
  },
  {
   "cell_type": "code",
   "execution_count": 16,
   "metadata": {},
   "outputs": [],
   "source": [
    "deg = 2\n",
    "low = -1\n",
    "high = 1\n",
    "func = np.exp\n",
    "nodes_cnt = 5\n",
    "x = np.linspace(low, high, nodes_cnt)\n",
    "y = func(x)\n",
    "\n",
    "# Interpolation\n",
    "coef = np.polyfit(x, y, deg)\n",
    "y_polyfit = np.polyval(coef, x)"
   ]
  },
  {
   "cell_type": "code",
   "execution_count": 17,
   "metadata": {},
   "outputs": [],
   "source": [
    "def polyfit_factorization(x, y, deg):\n",
    "    A = np.vander(x, deg + 1)\n",
    "    Q, R = np.linalg.qr(A)\n",
    "    return np.linalg.inv(R) @ Q.T @ y"
   ]
  },
  {
   "cell_type": "code",
   "execution_count": 18,
   "metadata": {},
   "outputs": [],
   "source": [
    "coef_factorization = polyfit_factorization(x, y, deg)\n",
    "y_polyfit_factorization = np.polyval(coef_factorization, x)"
   ]
  },
  {
   "cell_type": "code",
   "execution_count": 19,
   "metadata": {},
   "outputs": [
    {
     "name": "stdout",
     "output_type": "stream",
     "text": [
      "y_polyfit: [0.39355079 0.55704949 0.99441541 1.70564856 2.69074895]\n",
      "y_polyfit_factorization: [0.39355079 0.55704949 0.99441541 1.70564856 2.69074895]\n",
      "y_polyfit diff: 0.08448294904673065\n",
      "y_polyfit_factorization diff: 0.08448294904673058\n"
     ]
    }
   ],
   "source": [
    "print(f\"y_polyfit: {y_polyfit}\")\n",
    "print(f\"y_polyfit_factorization: {y_polyfit_factorization}\")\n",
    "print(f\"y_polyfit diff: {np.linalg.norm(y_polyfit - y)}\")\n",
    "print(f\"y_polyfit_factorization diff: {np.linalg.norm(y_polyfit_factorization - y)}\")"
   ]
  },
  {
   "cell_type": "code",
   "execution_count": 20,
   "metadata": {},
   "outputs": [],
   "source": [
    "import matplotlib.pyplot as plt"
   ]
  },
  {
   "cell_type": "code",
   "execution_count": 22,
   "metadata": {},
   "outputs": [
    {
     "data": {
      "image/png": "[encoded data removed]",
      "text/plain": [
       "<Figure size 1200x600 with 2 Axes>"
      ]
     },
     "metadata": {},
     "output_type": "display_data"
    }
   ],
   "source": [
    "xs = np.linspace(low, high, 100)\n",
    "ys = np.polyval(coef, xs)\n",
    "ys_factorization = np.polyval(coef_factorization, xs)\n",
    "\n",
    "_, axes = plt.subplots(1, 2, figsize=(12, 6))\n",
    "\n",
    "axes[0].plot(xs, ys, label=\"Polyfit\")\n",
    "axes[0].scatter(x, y, color=\"red\", label=\"Data points\")\n",
    "axes[0].legend()\n",
    "axes[0].set_title(\"Polynomial Fit using np.polyfit\")\n",
    "\n",
    "axes[1].plot(xs, ys_factorization, label=\"Factorization\")\n",
    "axes[1].scatter(x, y, color=\"red\", label=\"Data points\")\n",
    "axes[1].legend()\n",
    "axes[1].set_title(\"Polynomial Fit using QR Factorization\")\n",
    "plt.show()"
   ]
  },
  {
   "cell_type": "markdown",
   "metadata": {},
   "source": [
    "## Zadanie 3 (2 pkt)\n",
    "\n",
    "Znajdź i zaprezentuj działanie innego zastosowania wybranej faktoryzacji. Przykładowe (ale nie jedyne!) tematy:\n",
    "\n",
    "-    tworzenie pseudoinversji macierzy (http://buzzard.ups.edu/courses/2014spring/420projects/math420-UPS-spring-2014-macausland-pseudo-inverse-present.pdf).\n",
    "\n",
    "-   uzycie faktoryzacji QR do znajdowania wartości własnych (https://en.wikipedia.org/wiki/QR_algorithm)\n",
    "\n",
    "-  zastosowanie faktoryzacji SVD - np. zastosowania w uczeniu maszynowym "
   ]
  },
  {
   "cell_type": "markdown",
   "metadata": {},
   "source": [
    "### Zastosowanie faktoryzacji QR do znajdowania wartości własnych macierzy\n",
    "\n",
    "Faktoryzacja QR jest jedną z metod numerycznych stosowanych do znajdowania wartości własnych macierzy. Algorytm QR iteracyjnie rozkłada macierz na iloczyn macierzy ortogonalnej $ Q $ i macierzy trójkątnej górnej $ R $, a następnie aktualizuje macierz jako $ A_{k+1} = R_k Q_k $. Proces ten powtarza się, aż macierz $ A_k $ zbiegnie do postaci diagonalnej, której elementy diagonalne są wartościami własnymi macierzy początkowej.\n",
    "\n",
    "Metoda QR jest szczególnie użyteczna dla macierzy symetrycznych, gdzie zbieżność jest szybka i stabilna. Algorytm ten znajduje zastosowanie w wielu dziedzinach, takich jak analiza modalna, przetwarzanie sygnałów czy mechanika kwantowa."
   ]
  },
  {
   "cell_type": "markdown",
   "metadata": {},
   "source": [
    "1. Implementacja algorytmu ```QR-algorithm```"
   ]
  },
  {
   "cell_type": "code",
   "execution_count": 37,
   "metadata": {},
   "outputs": [],
   "source": [
    "def qr_algorithm(A, max_iter=1000, tol=1e-10):\n",
    "    \"\"\"\n",
    "    Computes the eigenvalues of matrix A using the QR iteration method.\n",
    "\n",
    "    Parameters:\n",
    "    A : numpy.ndarray\n",
    "        Square matrix (n x n)\n",
    "    max_iter : int\n",
    "        Maximum number of iterations\n",
    "    tol : float\n",
    "        Convergence tolerance\n",
    "\n",
    "    Returns:\n",
    "    eigenvalues : numpy.ndarray\n",
    "        Approximate eigenvalues of matrix A\n",
    "    \"\"\"\n",
    "    A_k = A.copy()\n",
    "\n",
    "    for _ in range(max_iter):\n",
    "        Q, R = np.linalg.qr(A_k)\n",
    "        A_k1 = R @ Q\n",
    "\n",
    "        if np.allclose(A_k, A_k1, atol=tol):\n",
    "            break\n",
    "\n",
    "        A_k = A_k1\n",
    "\n",
    "    return np.diag(A_k)"
   ]
  },
  {
   "cell_type": "markdown",
   "metadata": {},
   "source": [
    "2. Test działania algorytmu dla macierzy diagonalizowalnej $ A $ z wektorem wartości własnych $ \\lambda $:\n",
    "\n",
    "$$\n",
    "A = \\begin{bmatrix}\n",
    "-1 & 0 & -3 \\\\\n",
    "3 & 2 & 3 \\\\\n",
    "-3 & 0 & -1\n",
    "\\end{bmatrix}\n",
    "$$\n",
    "\n",
    "$$\n",
    "\\lambda = \\begin{bmatrix}-4 & 2 & 2 \\end{bmatrix}\n",
    "$$"
   ]
  },
  {
   "cell_type": "code",
   "execution_count": 41,
   "metadata": {},
   "outputs": [
    {
     "name": "stdout",
     "output_type": "stream",
     "text": [
      "[-4.  2.  2.]\n",
      "is diagonal: yes\n"
     ]
    }
   ],
   "source": [
    "A = np.array([[-1, 0, -3],\n",
    "              [3, 2, 3],\n",
    "              [-3, 0, -1]])\n",
    "\n",
    "eigenvalues = qr_algorithm(A)\n",
    "det = np.linalg.det(A - np.diag(eigenvalues))\n",
    "\n",
    "print(eigenvalues)\n",
    "print(f\"is diagonal: {\"yes\" if np.isclose(0, det, atol=1e-9) else \"no\"}\")"
   ]
  }
 ],
 "metadata": {
  "kernelspec": {
   "display_name": "mownit_env",
   "language": "python",
   "name": "python3"
  },
  "language_info": {
   "codemirror_mode": {
    "name": "ipython",
    "version": 3
   },
   "file_extension": ".py",
   "mimetype": "text/x-python",
   "name": "python",
   "nbconvert_exporter": "python",
   "pygments_lexer": "ipython3",
   "version": "3.12.3"
  }
 },
 "nbformat": 4,
 "nbformat_minor": 4
}
