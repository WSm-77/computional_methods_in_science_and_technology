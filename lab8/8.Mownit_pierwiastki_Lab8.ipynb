{
 "cells": [
  {
   "cell_type": "markdown",
   "metadata": {},
   "source": [
    "# MOwNiT - Rozwiązywanie równań nieliniowych"
   ]
  },
  {
   "cell_type": "code",
   "execution_count": 1,
   "metadata": {},
   "outputs": [],
   "source": [
    "from typing import Callable\n",
    "import numpy as np"
   ]
  },
  {
   "cell_type": "markdown",
   "metadata": {},
   "source": [
    "## Metoda bisekcji\n",
    "\n",
    "Metoda bisekcji opiera się na następującym twierdzeniu:\n",
    "\n",
    "> Jeżeli $f$ jest funkcją ciągłą w przedziale domkniętym $[a,b]$ taką, że $f(a)\\cdot f(b)<0$, to równanie $f(x)=0$ ma w przedziale $(a,b)$ co najmniej jedno rozwiązanie.\n",
    "\n",
    "Zawuważmy, że powyższe twierdzenie tak naprawdę mówi, iż w przedziale $(a,b)$ funkcja $f$ ma nieparzystą liczbę rozwiązań.\n",
    "\n",
    "Poniższy algortym poszukuje **jednego** przybliżonego miejsca zerowego zadanej funkcji *metodą bisekcji*, czyli podziału odcinka na dwie części. Na samym początku działania algorytmu (moment startu) bierzemy pod uwagę cały odcinek $[a,b]$ i dzielimy go dokładnie na pół - obliczamy $x_0=\\frac{a+b}{2}$. Jeżeli $x_0$ jest miejscem zerowy, to algorytm się kończy - szukamy jednego, dowolnego miejsca zerowego, nie wszystkich. Jeżeli $x_0$ nie jest miejscem zerowym, to mamy dwie (nie wykluczające się) możliwości:\n",
    "- w przedziale $(a,x_0)$ funkcja $f$ ma nieparzystą liczbę miejsc zerowych, tzn. funkcja $f$ ma na krańcach tego przedziału przeciwne znaki\n",
    "- w przedziale $(x_0,b)$ funkcja $f$ ma nieparzystą liczbę miejsc zerowych, tzn. funkcja $f$ ma na krańcach tego przedziału przeciwne znaki\n",
    "\n",
    "Któraś z powyższych możliwości musi zachodzić (możliwe, że obydwie). Bierzemy ten przedział, na krańcach którego funkcja ma przeciwne znaki i powtarzamy całą procedurę od początku.\n",
    "\n",
    "Oczywiście może się zdarzyć, że nasz algorytm będzie zbieżny w nieskończoności, tzn. aby punkt $x_0$ faktycznie był miejscem zerowym musielibyśmy wykonać nieskończenie wiele kroków, zatem najczęściej poszukujemy miejsca zerowego z zadaną dokładnością: w momencie, gdy długość aktualnie badanego przedziału jest już mniejsza od zadanego na początku $\\varepsilon$ oraz moduł wartości funkcji w połowie przedziału $|f(x_0)|$ również jest mniejszy od $\\varepsilon$, to przyjmujemy $x_0$ za dostatecznie dobre przybliżenie miejsca zerowego i kończymy algorytm.\n",
    "\n",
    "### Algorytm\n",
    "\n",
    "1. Start: $x_p=a$, $x_k=b$.\n",
    "2. Obliczamy $x_0=\\frac{x_k+x_p}{2}$.\n",
    "2. Sprawdzamy, czy $x_0$ jest szukanym miejscem zerowym lub jego przylbiżeniem z wystarczającą dokładnością. Jeżeli TAK -> Koniec. Jeżeli NIE, to sprawdzamy, czy $f(x_p)f(x_0)<0$:\n",
    "    - jeżeli TAK, to $x_k=x_0$ i wracamy do punktu 2.\n",
    "    - jeżeli NIE, to $x_p=x_0$ i wracamy do punktu 2."
   ]
  },
  {
   "cell_type": "markdown",
   "metadata": {},
   "source": [
    "### Ćwiczenie 1.\n",
    "\n",
    "1. Napisz funkcję ```metoda_bisekcji```, która będzie szukać miejsc zerowych zadanej funkcji $f(x)$ na zadanym przedziale $[a,b]$ z zadaną dokładnością $e$. Napisz funkcję tak, aby przy niespełnionym założeniu o przeciwnych znakach na końcach przedziału funkcja wyświetlała komunikat o błędzie.\n",
    "2. Sprawdź działanie funkcji na przykładach:\n",
    "    - $f(x)=x^2-1$, $x\\in[0,2]$\n",
    "    - $f(x)=x^3-7x+6$, $x\\in[-4,4]$\n",
    "    - $f(x)=\\ln x$, $x\\in[0.5,2]$\n",
    "    - $f(x)=x^2$, $x\\in[-1,1]$"
   ]
  },
  {
   "cell_type": "code",
   "execution_count": 2,
   "metadata": {},
   "outputs": [],
   "source": [
    "def bisection_method(fun: Callable[[np.float32], np.float32], a: np.float32, b: np.float32, eps: np.float32 = None, max_it: int = 100):\n",
    "    if eps is None:\n",
    "        eps = np.finfo(np.float32).eps * (a + b) / 2\n",
    "\n",
    "    if not fun(a) * fun(b) < 0:\n",
    "        raise Exception(\"Signs of f(a) and f(b) are not opposite!!!\")\n",
    "\n",
    "    for _ in range(max_it):\n",
    "        x = (a + b) / 2\n",
    "\n",
    "        f_x = fun(x)\n",
    "\n",
    "        if abs(f_x) < eps:\n",
    "            return x\n",
    "        elif fun(a) * f_x < 0:\n",
    "            b = x\n",
    "        else:\n",
    "            a = x\n",
    "\n",
    "    return x"
   ]
  },
  {
   "cell_type": "code",
   "execution_count": 3,
   "metadata": {},
   "outputs": [],
   "source": [
    "f1: Callable[[np.float32], np.float32] = lambda x: x ** 2 - 1\n",
    "f2: Callable[[np.float32], np.float32] = lambda x: x ** 3 - 7 * x + 6\n",
    "f3: Callable[[np.float32], np.float32] = np.log\n",
    "f4: Callable[[np.float32], np.float32] = lambda x: x ** 2"
   ]
  },
  {
   "cell_type": "code",
   "execution_count": 4,
   "metadata": {},
   "outputs": [
    {
     "name": "stdout",
     "output_type": "stream",
     "text": [
      "1.0\n"
     ]
    }
   ],
   "source": [
    "a1, b1 = np.float32(0), np.float32(2)\n",
    "x1 = bisection_method(f1, a1, b1)\n",
    "print(x1)"
   ]
  },
  {
   "cell_type": "code",
   "execution_count": 5,
   "metadata": {},
   "outputs": [
    {
     "name": "stdout",
     "output_type": "stream",
     "text": [
      "-2.0\n"
     ]
    }
   ],
   "source": [
    "a2, b2 = np.float32(-4), np.float32(4)\n",
    "x2 = bisection_method(f2, a2, b2)\n",
    "print(x2)"
   ]
  },
  {
   "cell_type": "code",
   "execution_count": 6,
   "metadata": {},
   "outputs": [
    {
     "name": "stdout",
     "output_type": "stream",
     "text": [
      "0.9999999\n"
     ]
    }
   ],
   "source": [
    "a3, b3 = np.float32(0.5), np.float32(2)\n",
    "x3 = bisection_method(f3, a3, b3)\n",
    "print(x3)"
   ]
  },
  {
   "cell_type": "code",
   "execution_count": 7,
   "metadata": {},
   "outputs": [
    {
     "name": "stdout",
     "output_type": "stream",
     "text": [
      "Signs of f(a) and f(b) are not opposite!!!\n"
     ]
    }
   ],
   "source": [
    "a4, b4 = np.float32(-1), np.float32(1)\n",
    "try:\n",
    "    x4 = bisection_method(f4, a4, b4)\n",
    "    print(x4)\n",
    "except Exception as error:\n",
    "    print(error)"
   ]
  },
  {
   "cell_type": "markdown",
   "metadata": {},
   "source": [
    "## Metoda Newtona (metoda stycznych)\n",
    "\n",
    "*Metoda Newtona* jest kolejnym algorytmem poszukiwania miejsc zerowych funkcji. Metoda przyjmuje następujące założenia:\n",
    "\n",
    "> 1. Funkcja $f$ jest funkcją ciągłą i różniczkowalną na przedziale $[a,b]$.\n",
    "> 2. Pierwsza i druga pochodna funkcji $f$ mają stałe znaki na przedziale $[a,b]$.\n",
    "> 2. $f(a)\\cdot f(b)<0$\n",
    "> 2. W przedziale $[a,b]$ funkcja $f$ ma dokładnie jeden pierwiastek.\n",
    "\n",
    "Zaczynamy od punktu będącego początkiem przedziału. Następnie wyznaczamy styczną do wykresu funkcji w puncie $(a,f(a))$ i obliczamy współrzędne $(x,0)$ jej punktu przecięcia z osią OX. Jeżeli punkt $x$ jest szukanym miejscem zerowym (lub jego odpowiednim przybliżeniem), to kończymy algorytm. W przeciwnym wypadku, dzięki stałej monotoniczności i wypukłości funkcji $f$ wiemy, że szukane miejsce zerowe znajduje się gdzieś w przedziale $(x,b]$ i powtarzamy rozumowanie.\n",
    "\n",
    "### Algorytm\n",
    "\n",
    "1. Start: $x_n=a$.\n",
    "2. Obliczamy współrzędne $(x_{n+1},0)$ punktu przecięcia stycznej do funkcji w punkcie $(x_n,f(x_n))$ z osią OX.\n",
    "3. Sprawdzamy czy $x_{n+1}$ jest miejscem zerowym lub jego odpowiednim przybliżeniem. Jeżeli TAK -> Koniec. Jeżeli NIE, to uaktualniamy $x_n=x_{n+1}$ i wracamy do punktu 2."
   ]
  },
  {
   "cell_type": "markdown",
   "metadata": {},
   "source": [
    "### Ćwiczenie 2.\n",
    "\n",
    "1. Napisz funkcję ```metoda_Newtona```, która będzie szukać miejsc zerowych zadanej funkcji $f(x)$ na zadanym przedziale $[a,b]$ z zadaną dokładnością $e$.\n",
    "2. Sprawdź działanie tej funkcji na następujących przykładach:\n",
    "    - $f(x)=\\ln x$, $x\\in[0.5,1.5]$\n",
    "    - $f(x)=x^2-1$, $x\\in[0.5,2]$\n",
    "3. Dlaczego algorytm nie będzie działał dla $f(x)=x^2-1$, $x\\in[0,2]$?\n",
    "\n",
    "    -  Odpowidź: Algorytm nie będzie działać, ponieważ w pierwszej iteracji algorytmu będziemy mieli dzielienie przez wartość pochodnej z funkcji f w punkcjie 0, która jest równa: $\\frac{df}{dx} (0) = 2 \\cdot 0 = 0$, a dzielenie przez zero daje nam wartość ```nan``` naszego nowego punktu x.\n",
    "\n",
    "4. Za pomocą funkcji ```metoda_Newtona``` stwórz własną funkcję, która będzie obliczać pierwiastek kwadratowy z zadanej liczby nieujemnej (bez użycia funkcji ```sqrt``` z różnych bibliotek i bez użycia potęgowania)."
   ]
  },
  {
   "cell_type": "code",
   "execution_count": 8,
   "metadata": {},
   "outputs": [],
   "source": [
    "def newton_method(fun: Callable[[np.float32], np.float32], df: Callable[[np.float32], np.float32], a: np.float32, b: np.float32, eps: np.float32 = None, max_it: int = 100):\n",
    "    if eps is None:\n",
    "        eps = np.finfo(np.float32).eps * (a + b) / 2\n",
    "\n",
    "    if not fun(a) * fun(b) < 0:\n",
    "        raise Exception(\"Signs of f(a) and f(b) are not opposite!!!\")\n",
    "\n",
    "    x = a\n",
    "    for _ in range(max_it):\n",
    "        if abs(fun(x)) < eps:\n",
    "            break\n",
    "\n",
    "        x -= fun(x) / df(x)\n",
    "\n",
    "\n",
    "    return x"
   ]
  },
  {
   "cell_type": "code",
   "execution_count": 9,
   "metadata": {},
   "outputs": [
    {
     "name": "stdout",
     "output_type": "stream",
     "text": [
      "1.0\n"
     ]
    }
   ],
   "source": [
    "a5, b5 = np.float32(0.5), np.float32(1.5)\n",
    "try:\n",
    "    x5 = newton_method(f3, lambda x: 1 / x, a5, b5)\n",
    "    print(x5)\n",
    "except Exception as error:\n",
    "    print(error)"
   ]
  },
  {
   "cell_type": "code",
   "execution_count": 10,
   "metadata": {},
   "outputs": [
    {
     "name": "stdout",
     "output_type": "stream",
     "text": [
      "1.0\n"
     ]
    }
   ],
   "source": [
    "a6, b6 = np.float32(0.5), np.float32(2)\n",
    "try:\n",
    "    x6 = newton_method(f1, lambda x: 2 * x, a6, b6)\n",
    "    print(x6)\n",
    "except Exception as error:\n",
    "    print(error)"
   ]
  },
  {
   "cell_type": "code",
   "execution_count": 11,
   "metadata": {},
   "outputs": [],
   "source": [
    "def my_sqrt(a: np.float32):\n",
    "    if a < 1:\n",
    "        start = a\n",
    "        end = 1\n",
    "    else:\n",
    "        start = 1e-6\n",
    "        end = a + 1\n",
    "\n",
    "    return newton_method(lambda x: x ** 2 - a, lambda x: 2 * x, start, end, eps = 1e-10)"
   ]
  },
  {
   "cell_type": "code",
   "execution_count": 12,
   "metadata": {},
   "outputs": [
    {
     "name": "stdout",
     "output_type": "stream",
     "text": [
      "2.0000000000000107\n",
      "1.7320508075688774\n",
      "1.0000000000000053\n",
      "0.31622776601683794\n",
      "10000.0\n"
     ]
    }
   ],
   "source": [
    "print(my_sqrt(4))\n",
    "print(my_sqrt(3))\n",
    "print(my_sqrt(1))\n",
    "print(my_sqrt(0.1))\n",
    "print(my_sqrt(1e8))"
   ]
  },
  {
   "cell_type": "markdown",
   "metadata": {},
   "source": [
    "## Metoda Eulera (metoda siecznych)\n",
    "\n",
    "Założenia metody siecznych:\n",
    "\n",
    "> 1. Funkcja $f$ jest funkcją ciągłą na przedziale $[a,b]$.\n",
    "> 2. $f(a)\\cdot f(b)<0$\n",
    "> 2. W przedziale $[a,b]$ funkcja $f$ ma dokładnie jeden pierwiastek.\n",
    "\n",
    "Metoda siecznych wykorzystuje fakt, że dla odpowiednio małego przedziału $[x_1,x_2]$ sieczna przechodząca przez punkty $(x_1,f(x_1))$, $(x_2,f(x_2))$ jest wystarczająco dobrą aproksymacją funkcji $f$ na $[x_1,x_2]$. To podejście ma jedną podstawową wadę: jeżeli wyjściowy przedział $[a,b]$ jest zbyt duży, algorytm może nie zadziałać, jak powinien.\n",
    "\n",
    "### Algorytm\n",
    "\n",
    "1. Start: $x_1=a$, $x_2=b$.\n",
    "2. Wyznaczamy punkt $(x_0,0)$ przecięcia siecznej przechodzącej przez punkty $(x_1,f(x_1))$, $(x_2,f(x_2))$ z osią OX.\n",
    "3. Sprawdzamy czy $x_0$ jest miejscem zerowym lub jego odpowiednim przybliżeniem. Jeżeli TAK -> Koniec. Jeżeli NIE, to:\n",
    "    - $x_1=x_2$\n",
    "    - $x_2=x_0$\n",
    "    - wracamy do punktu 2."
   ]
  },
  {
   "cell_type": "markdown",
   "metadata": {},
   "source": [
    "### Ćwiczenie 3.\n",
    "\n",
    "1. Napisz funkcję ```metoda_siecznych```, która będzie szukać miejsc zerowych zadanej funkcji $f(x)$ na zadanym przedziale $[a,b]$ z zadaną dokładnością $e$.\n",
    "2. Sprawdź działanie tej funkcji na następujących przykładach:\n",
    "    - $f(x)=\\sqrt[3]{x}$, $x\\in[-1,1]$\n",
    "    - $f(x)=x^3-7x+6$, $x\\in[-4,-2]$\n",
    "    - $f(x)=\\text{arctg}\\, x$, $x\\in[-1,3]$\n",
    "3. Dlaczego algorytm nie będzie działał dla $f(x)=x^3-7x+6$, $x\\in[0,3]$?\n",
    "\n",
    "    - Odpowiedź: Algorytm nie będzie działał w tym przedziale, ponieważ nie są spełnione założenia 2. oraz 3.\n",
    "\n",
    "4. Sprawdź, czy algorytm zadziała poprawnie dla $f(x)=x^2-4$, $x\\in[-1,10]$."
   ]
  },
  {
   "cell_type": "code",
   "execution_count": 13,
   "metadata": {},
   "outputs": [],
   "source": [
    "def secant_method(fun: Callable[[np.float32], np.float32], a: np.float32, b: np.float32, eps: np.float32 = None, max_it: int = 100):\n",
    "    if eps is None:\n",
    "        eps = np.finfo(np.float32).eps * (a + b) / 2\n",
    "\n",
    "    if not fun(a) * fun(b) < 0:\n",
    "        raise Exception(\"Signs of f(a) and f(b) are not opposite!!!\")\n",
    "\n",
    "    x = a\n",
    "    for _ in range(max_it):\n",
    "        if abs(fun(x)) < eps:\n",
    "            break\n",
    "\n",
    "        m = (fun(b) - fun(a)) / (b - a)\n",
    "        x -= fun(x) / m\n",
    "\n",
    "    return x\n"
   ]
  },
  {
   "cell_type": "code",
   "execution_count": 14,
   "metadata": {},
   "outputs": [],
   "source": [
    "f7: Callable[[np.float32], np.float32] = np.cbrt\n",
    "f8: Callable[[np.float32], np.float32] = lambda x: x ** 3 - 7 * x + 6\n",
    "f9: Callable[[np.float32], np.float32] = np.arctan"
   ]
  },
  {
   "cell_type": "code",
   "execution_count": 15,
   "metadata": {},
   "outputs": [
    {
     "name": "stdout",
     "output_type": "stream",
     "text": [
      "0.0\n"
     ]
    }
   ],
   "source": [
    "a7, b7 = np.float32(-1), np.float32(1)\n",
    "try:\n",
    "    x7 = secant_method(f7, a7, b7)\n",
    "    print(x7)\n",
    "except Exception as error:\n",
    "    print(error)"
   ]
  },
  {
   "cell_type": "code",
   "execution_count": 16,
   "metadata": {},
   "outputs": [
    {
     "name": "stdout",
     "output_type": "stream",
     "text": [
      "-3.0\n"
     ]
    }
   ],
   "source": [
    "a8, b8 = np.float32(-4), np.float32(-2)\n",
    "try:\n",
    "    x8 = secant_method(f8, a8, b8)\n",
    "    print(x8)\n",
    "except Exception as error:\n",
    "    print(error)"
   ]
  },
  {
   "cell_type": "code",
   "execution_count": 17,
   "metadata": {},
   "outputs": [
    {
     "name": "stdout",
     "output_type": "stream",
     "text": [
      "-0.0066939443\n"
     ]
    }
   ],
   "source": [
    "a9, b9 = np.float32(-1), np.float32(3)\n",
    "try:\n",
    "    x9 = secant_method(f9, a9, b9)\n",
    "    print(x9)\n",
    "except Exception as error:\n",
    "    print(error)"
   ]
  },
  {
   "cell_type": "markdown",
   "metadata": {},
   "source": [
    "## Regula falsi\n",
    "\n",
    "Założenia metody *Regula falsi* są takie same, jak założenia metody Newtona:\n",
    "\n",
    "> 1. Funkcja $f$ jest funkcją ciągłą i różniczkowalną na przedziale $[a,b]$.\n",
    "> 2. Pierwsza i druga pochodna funkcji $f$ mają stałe znaki na przedziale $[a,b]$.\n",
    "> 2. $f(a)\\cdot f(b)<0$\n",
    "> 2. W przedziale $[a,b]$ funkcja $f$ ma dokładnie jeden pierwiastek.\n",
    "\n",
    "Metoda jest bardzo podobna do metody siecznych z tą różnicą, że zmienia się tylko jeden z punktów, przez który przeprowadzne są kolejne sieczne. Drugi punkt jest ustalony i jest to jeden z końców odcinka.\n",
    "\n",
    "### Algorytm\n",
    "\n",
    "1. Start: $x_1=a$, $x_2=b$.\n",
    "2. Wyznaczamy punkt $(x_0,0)$ przecięcia siecznej przechodzącej przez punkty $(x_1,f(x_1))$, $(x_2,f(x_2))$ z osią OX.\n",
    "3. Sprawdzamy czy $x_0$ jest miejscem zerowym lub jego odpowiednim przybliżeniem. Jeżeli TAK -> Koniec. Jeżeli NIE, to:\n",
    "    - jeżeli $f(x_1)f(x_0)<0$, to $x_2=x_0$, wartość $x_1$ się nie zmienia\n",
    "    - jeżeli $f(x_2)f(x_0)<0$, to $x_1=x_0$, wartość $x_2$ się nie zmienia\n",
    "    - wracamy do punktu 2.\n",
    "    \n",
    "Dzięki założeniom funkcja $f$ jest monotoniczna w $[a,b]$, ma również określoną wypukłość, zatem w punkcie 3 algorytmu zawsze będzie wybierana ta sama opcja i przez cały algorytm jedna z wartości $x_1=a$ albo $x_2=b$ pozostanie bez zmian. Można na samym początku algorytmu ustalić, która z tych wartości pozostanie stała i zrezygnować z dwóch instrukcji warunkowych w pętli, co znacznie przyspiesza obliczenia, jednak wtedy algorytm jest mniej uniwersalny."
   ]
  },
  {
   "cell_type": "markdown",
   "metadata": {},
   "source": [
    "### Ćwiczenie 4.\n",
    "\n",
    "1. Napisz funkcję ```regula_falsi```, która będzie szukać miejsc zerowych zadanej funkcji $f(x)$ na zadanym przedziale $[a,b]$ z zadaną dokładnością $e$.\n",
    "2. Sprawdź działanie tej funkcji na przykładach:\n",
    "    - $f(x)=e^x-1$, $x\\in[-1,1]$\n",
    "    - $f(x)=x^2-1\\, x$, $x\\in[0,2]$\n",
    "4. Sprawdź, czy algorytm zadziała poprawnie w przypadku funkcji:\n",
    "    - $f(x)=x^2-4$, $x\\in[-1,10]$ (funkcja nie jest monotoniczna, ale ma stałą wypukłość)\n",
    "    - $f(x)=\\sqrt[3]{x}$, $x\\in[-3,3]$ (funkcja ma punkt przegięcia, ale jest monotoniczna)\n",
    "    - $f(x)=\\sin x$, $x\\in[-2,2]$ (funkcja ma punkt przegięcia i nie jest monotoniczna)"
   ]
  },
  {
   "cell_type": "code",
   "execution_count": 18,
   "metadata": {},
   "outputs": [],
   "source": [
    "def falsi_method(fun: Callable[[np.float32], np.float32], a: np.float32, b: np.float32, eps: np.float32 = None, max_it: int = 100):\n",
    "    if eps is None:\n",
    "        eps = np.finfo(np.float32).eps * (a + b) / 2\n",
    "\n",
    "    if not fun(a) * fun(b) < 0:\n",
    "        raise Exception(\"Signs of f(a) and f(b) are not opposite!!!\")\n",
    "\n",
    "    x = a\n",
    "    for _ in range(max_it):\n",
    "        if abs(fun(x)) < eps:\n",
    "            break\n",
    "\n",
    "        x = b - (fun(b) * (a - b)) / (fun(a) - fun(b))\n",
    "        if fun(x) * fun(a) < 0:\n",
    "            b = x\n",
    "        else:\n",
    "            a = x\n",
    "\n",
    "    return x"
   ]
  },
  {
   "cell_type": "code",
   "execution_count": 19,
   "metadata": {},
   "outputs": [],
   "source": [
    "f10: Callable[[np.float32], np.float32] = lambda x: np.exp(x) - 1\n",
    "f11: Callable[[np.float32], np.float32] = lambda x: x ** 2 - 1"
   ]
  },
  {
   "cell_type": "code",
   "execution_count": 20,
   "metadata": {},
   "outputs": [
    {
     "name": "stdout",
     "output_type": "stream",
     "text": [
      "-8.474606e-08\n"
     ]
    }
   ],
   "source": [
    "a10, b10 = np.float32(-1), np.float32(3)\n",
    "try:\n",
    "    x10 = secant_method(f10, a10, b10)\n",
    "    print(x10)\n",
    "except Exception as error:\n",
    "    print(error)"
   ]
  },
  {
   "cell_type": "code",
   "execution_count": 21,
   "metadata": {},
   "outputs": [
    {
     "name": "stdout",
     "output_type": "stream",
     "text": [
      "1.0\n"
     ]
    }
   ],
   "source": [
    "a11, b11 = np.float32(0), np.float32(2)\n",
    "try:\n",
    "    x11 = secant_method(f11, a11, b11)\n",
    "    print(x11)\n",
    "except Exception as error:\n",
    "    print(error)"
   ]
  },
  {
   "cell_type": "code",
   "execution_count": 22,
   "metadata": {},
   "outputs": [],
   "source": [
    "f12: Callable[[np.float32], np.float32] = lambda x: x ** 2 - 4\n",
    "f13: Callable[[np.float32], np.float32] = np.cbrt\n",
    "f14: Callable[[np.float32], np.float32] = np.sin"
   ]
  },
  {
   "cell_type": "code",
   "execution_count": 23,
   "metadata": {},
   "outputs": [
    {
     "name": "stdout",
     "output_type": "stream",
     "text": [
      "1.9999999\n"
     ]
    }
   ],
   "source": [
    "a12, b12 = np.float32(-1), np.float32(10)\n",
    "try:\n",
    "    x12 = secant_method(f12, a12, b12)\n",
    "    print(x12)\n",
    "except Exception as error:\n",
    "    print(error)"
   ]
  },
  {
   "cell_type": "code",
   "execution_count": 24,
   "metadata": {},
   "outputs": [
    {
     "name": "stdout",
     "output_type": "stream",
     "text": [
      "0.0\n"
     ]
    }
   ],
   "source": [
    "a13, b13 = np.float32(-3), np.float32(3)\n",
    "try:\n",
    "    x13 = secant_method(f13, a13, b13)\n",
    "    print(x13)\n",
    "except Exception as error:\n",
    "    print(error)"
   ]
  },
  {
   "cell_type": "code",
   "execution_count": 25,
   "metadata": {},
   "outputs": [
    {
     "name": "stdout",
     "output_type": "stream",
     "text": [
      "0.0\n"
     ]
    }
   ],
   "source": [
    "a14, b14 = np.float32(-2), np.float32(2)\n",
    "try:\n",
    "    x14 = secant_method(f14, a14, b14)\n",
    "    print(x14)\n",
    "except Exception as error:\n",
    "    print(error)"
   ]
  },
  {
   "cell_type": "markdown",
   "metadata": {},
   "source": [
    "Jak widać Reguła Falsi działa również w pokazanych przypadkach, pomimo tego, że nie spełniają założeń algorytmu. Pokazuje to, że założenia zapewniają nas, że pierwiastek zostanie znaleziony, natomiast nie oznaczają, iż algorytm nie będzie działał poprawnie w przypadku niespełnienia tych założeń."
   ]
  },
  {
   "cell_type": "markdown",
   "metadata": {},
   "source": [
    "### Ćwiczenie 5.\n",
    "\n",
    "W pakiecie `scipy.optimize` znajdują się dwie funkcje do znajdowania pierwiastków: `fsolve()` oraz `root()`. Wykorzystując dokumentację biblioteki `scipy` za pomocą odpowiednio dobranej funkcji rozwiąż te przykłady z ćwiczeń 1-4, których nie udało się rozwiązać podstawowymi algorytmami."
   ]
  },
  {
   "cell_type": "code",
   "execution_count": 26,
   "metadata": {},
   "outputs": [],
   "source": [
    "from scipy.optimize import root"
   ]
  },
  {
   "cell_type": "markdown",
   "metadata": {},
   "source": [
    "Znajdźmy pierwiastki funkcji $ f(x) = x^2 $ wykorzystując funkcję ```root```. W przedziale $<-1,1>$"
   ]
  },
  {
   "cell_type": "code",
   "execution_count": 27,
   "metadata": {},
   "outputs": [
    {
     "name": "stdout",
     "output_type": "stream",
     "text": [
      "5.681053833367079e-84\n"
     ]
    }
   ],
   "source": [
    "sol = root(f4, x0 = 1)\n",
    "print(sol.x.item(0))"
   ]
  }
 ],
 "metadata": {
  "kernelspec": {
   "display_name": "mownit_env",
   "language": "python",
   "name": "python3"
  },
  "language_info": {
   "codemirror_mode": {
    "name": "ipython",
    "version": 3
   },
   "file_extension": ".py",
   "mimetype": "text/x-python",
   "name": "python",
   "nbconvert_exporter": "python",
   "pygments_lexer": "ipython3",
   "version": "3.12.3"
  }
 },
 "nbformat": 4,
 "nbformat_minor": 4
}
