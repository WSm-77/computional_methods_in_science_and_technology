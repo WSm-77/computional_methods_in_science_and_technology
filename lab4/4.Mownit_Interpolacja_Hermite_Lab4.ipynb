{
 "cells": [
  {
   "cell_type": "markdown",
   "metadata": {},
   "source": [
    "# MOwNiT \n",
    "\n",
    "# Laboratorium 4"
   ]
  },
  {
   "cell_type": "markdown",
   "metadata": {},
   "source": [
    "## Interpolacja Hermite'a"
   ]
  },
  {
   "cell_type": "markdown",
   "metadata": {},
   "source": [
    "Interpolacja Hermite’a umożliwia znalezienie wielomianu interpolacyjnego zadanej funkcji w przypadku, gdy oprócz wartości funkcji w pewnych punktach $x_1,...,x_n$ dane są również wartości jej pochodnych, tzn. znamy\n",
    "\n",
    "$$f(x_{1}),f(x_{2}),\\ldots ,f(x_{n})$$\n",
    "\n",
    "oraz\n",
    "\n",
    "$$f'(x_{1}),\\ldots ,f^{(k_{1})}(x_{1}),f'(x_2),\\ldots,f^{(k_2)}(x_2)\\ldots ,f'(x_{n}),\\ldots ,f^{(k_{n})}(x_{n})$$\n",
    "\n",
    "Jeżeli w danym punkcie $x_j$ znamy wyłącznie wartość funkcji, to punkt $(x_j,f(x_j))$ nazywamy *węzłem jednokrotnym*, natomiast jeżeli znamy wartości pochodnych aż do $k$-tej włącznie, to punkt $(x_j,f(x_j))$ nazywamy *węzłem $k+1$ krotnym*."
   ]
  },
  {
   "cell_type": "markdown",
   "metadata": {},
   "source": [
    "### Algorytm - teoria"
   ]
  },
  {
   "cell_type": "markdown",
   "metadata": {},
   "source": [
    "Konstruujemy macierz węzłów w taki sposób, że węzęł $k$-krotny powtarzamy dokładnie $k$ razy:"
   ]
  },
  {
   "cell_type": "markdown",
   "metadata": {},
   "source": [
    "$$\\left[\\begin{array}{c}\n",
    "x_1&f(x_1)\\\\\n",
    "x_1&f(x_1)\\\\\n",
    "x_1&f(x_1)\\\\\n",
    "\\vdots\\\\\n",
    "x_1&f(x_1)\\\\\n",
    "x_2&f(x_2)\\\\\n",
    "x_2&f(x_2)\\\\\n",
    "\\vdots\\\\\n",
    "x_2&f(x_2)\\\\\n",
    "\\vdots\\\\\n",
    "x_n&f(x_n)\\\\\n",
    "x_n&f(x_n)\\\\\n",
    "\\vdots\\\\\n",
    "x_n&f(x_n)\n",
    "\\end{array}\\right]$$"
   ]
  },
  {
   "cell_type": "markdown",
   "metadata": {},
   "source": [
    "Następnie uzupełniamy naszą macierz o kolejną kolumnę zawierającą *różnice dzielone pierwszego rzędu*$$f[x_{i-1},x_{i}]:=\\frac{f(x_{i})-f(x_{i-1})}{x_{i}-x_{i-1}}.$$ Tam, gdzie nie możemy obliczyć różnicy dzielonej (obecny i poprzedni punkt jest taki sam) wstawiamy $$\\frac{f'(x_i)}{1!}.$$"
   ]
  },
  {
   "cell_type": "markdown",
   "metadata": {},
   "source": [
    "$$\\left[\\begin{array}{cc}\n",
    "x_1&f(x_1)&-\\\\\n",
    "x_1&f(x_1)&f'(x_1)\\\\\n",
    "x_1&f(x_1)&f'(x_1)\\\\\n",
    "\\vdots&\\vdots\\\\\n",
    "x_1&f(x_1)&f'(x_1)\\\\\n",
    "x_2&f(x_2)&f[x_1,x_2]\\\\\n",
    "x_2&f(x_2)&f'(x_2)\\\\\n",
    "\\vdots&\\vdots\\\\\n",
    "x_2&f(x_2)&f'(x_2)\\\\\n",
    "\\vdots&\\vdots\\\\\n",
    "x_n&f(x_n)&f[x_{n-1},x_n]\\\\\n",
    "x_n&f(x_n)&f'(x_n)\\\\\n",
    "\\vdots&\\vdots\\\\\n",
    "x_n&f(x_n)&f'(x_n)\n",
    "\\end{array}\\right]$$"
   ]
  },
  {
   "cell_type": "markdown",
   "metadata": {},
   "source": [
    "W kolejnym kroku uzupełniamy macierz o kolumnę *różnic dzielonych drugiego rzędu* $$f[x_{i-2},x_{i-1},x_i]=\\frac{f[x_{i-1},x_i]-f[x_{i-2},x_{i-1}]}{x_i-x_{i-2}}$$"
   ]
  },
  {
   "cell_type": "markdown",
   "metadata": {},
   "source": [
    "Jeżeli $f[x_{i-1},x_i]$ lub $f[x_{i-2},x_{i-1}]$ nie istniała, to do wzoru wstawiamy zastępującą ją pochodną."
   ]
  },
  {
   "cell_type": "markdown",
   "metadata": {},
   "source": [
    "Jeżeli nie jesteśmy wstanie obliczyć różnicy dzielonej drugiego rzędu (dwa poprzednie punkty są takie same, jak aktualny), to wstawiamy $$\\frac{f''(x_i)}{2!}.$$"
   ]
  },
  {
   "cell_type": "markdown",
   "metadata": {},
   "source": [
    "$$\\left[\\begin{array}{ccc}\n",
    "x_1&f(x_1)&-&-\\\\\n",
    "x_1&f(x_1)&f'(x_1)&-\\\\\n",
    "x_1&f(x_1)&f'(x_1)&\\frac{f''(x_1)}{2}\\\\\n",
    "\\vdots&\\vdots&\\vdots\\\\\n",
    "x_1&f(x_1)&f'(x_1)&\\frac{f''(x_1)}{2}\\\\\n",
    "x_2&f(x_2)&f[x_1,x_2]&f[x_1,x_1,x_2]\\\\\n",
    "x_2&f(x_2)&f'(x_2)&f[x_1,x_2,x_2]\\\\\n",
    "\\vdots&\\vdots&\\vdots\\\\\n",
    "x_2&f(x_2)&f'(x_2)&\\frac{f''(x_1)}{2}\\\\\n",
    "\\vdots&\\vdots&\\vdots\\\\\n",
    "x_n&f(x_n)&f[x_{n-1},x_n]&f[x_{n-1},x_{n-1},x_n]\\\\\n",
    "x_n&f(x_n)&f'(x_n)&f[x_{n-1},x_n,x_n]\\\\\n",
    "\\vdots&\\vdots&\\vdots\\\\\n",
    "x_n&f(x_n)&f'(x_n)&\\frac{f''(x_1)}{2}\n",
    "\\end{array}\\right]$$"
   ]
  },
  {
   "cell_type": "markdown",
   "metadata": {},
   "source": [
    "Kontynuujemy rekurencyjnie obliczając kolejne *różnice dzielone $k$-tego rzędu* $$f[x_{i-k},x_{i-k+1},...,x_i]=\\frac{f[x_{i-k+1},...,x_i]-f[x_{i-k},x_{i-k+1},...,x_{i-1}]}{x_i-x_{i-k}}$$"
   ]
  },
  {
   "cell_type": "markdown",
   "metadata": {},
   "source": [
    "pamiętając o zastąpieniu wyrażeń nieistniejących wyrażeniami z pochodnymi dzielonymi przez $(k-1)!$ a tam, gdzie mianownik byłby równy zero wstawiamy zamiast nich $$\\frac{f^{(k)}(x_i)}{k!}$$."
   ]
  },
  {
   "cell_type": "markdown",
   "metadata": {},
   "source": [
    "Po zakończeniu algorytmu otrzymujemy macierz, która po opuszczeniu kolumny zawierającej $x_i$ jest macierzą  kwadratową"
   ]
  },
  {
   "cell_type": "markdown",
   "metadata": {},
   "source": [
    "$$H=\\left[\\begin{array}{ccccc}\n",
    "f(x_1)&-&-&\\cdots&-\\\\\n",
    "f(x_1)&f'(x_1)&-&\\cdots&-\\\\\n",
    "f(x_1)&f'(x_1)&\\frac{f''(x_1)}{2}&\\cdots&-\\\\\n",
    "\\vdots&\\vdots&\\vdots&\\cdots&-\\\\\n",
    "f(x_1)&f'(x_1)&\\frac{f''(x_1)}{2}&\\cdots&-\\\\\n",
    "f(x_2)&f[x_1,x_2]&f[x_1,x_1,x_2]&\\cdots&-\\\\\n",
    "f(x_2)&f'(x_2)&f[x_1,x_2,x_2]&\\cdots&-\\\\\n",
    "\\vdots&\\vdots&\\vdots&\\cdots&-\\\\\n",
    "f(x_2)&f'(x_2)&\\frac{f''(x_1)}{2}&\\cdots&-\\\\\n",
    "\\vdots&\\vdots&\\vdots&\\cdots&-\\\\\n",
    "f(x_n)&f[x_{n-1},x_n]&f[x_{n-1},x_{n-1},x_n]&\\cdots&-\\\\\n",
    "f(x_n)&f'(x_n)&f[x_{n-1},x_n,x_n]&\\cdots&-\\\\\n",
    "\\vdots&\\vdots&\\vdots&\\cdots&-\\\\\n",
    "f(x_n)&f'(x_n)&\\frac{f''(x_1)}{2}&\\cdots&f[x_1,...,x_n]\n",
    "\\end{array}\\right]$$"
   ]
  },
  {
   "cell_type": "markdown",
   "metadata": {},
   "source": [
    "Wielomian interpolacyjny Hermite'a ma postać $$W(x)=\\sum _{i=1}^{m}a_{i}\\prod _{j=1}^{i-1}(x-x_{j}),$$\n",
    "\n"
   ]
  },
  {
   "cell_type": "markdown",
   "metadata": {},
   "source": [
    "gdzie współczynniki $a_i$ są wyrazami na przekątnej macierzy $H$ a $m$ jest liczbą węzłów liczoną wraz z ich krotnościami."
   ]
  },
  {
   "cell_type": "markdown",
   "metadata": {},
   "source": [
    "### Przykład"
   ]
  },
  {
   "cell_type": "markdown",
   "metadata": {},
   "source": [
    "Mamy dane"
   ]
  },
  {
   "cell_type": "markdown",
   "metadata": {},
   "source": [
    "|x_i| f(x_i) |f'(x_i)|f''(x_i)|\n",
    "|-|-|-|-|\n",
    "|2 |4 |4 |2|\n",
    "|3 |9  |  |"
   ]
  },
  {
   "cell_type": "markdown",
   "metadata": {},
   "source": [
    "Układamy macierz węzłów powtórzonych zgodnie z ich krotnością"
   ]
  },
  {
   "cell_type": "markdown",
   "metadata": {},
   "source": [
    "$$\\left[\\begin{array}{c}\n",
    "2&4\\\\\n",
    "2&4\\\\\n",
    "2&4\\\\\n",
    "3&9\n",
    "\\end{array}\\right]$$"
   ]
  },
  {
   "cell_type": "markdown",
   "metadata": {},
   "source": [
    "Uzupełniamy o różnice dzielone pierwszego rzędu (lub wartości pierwszej pochodnej)"
   ]
  },
  {
   "cell_type": "markdown",
   "metadata": {},
   "source": [
    "$$\\left[\\begin{array}{ccc}\n",
    "2&4&-\\\\\n",
    "2&4&4\\\\\n",
    "2&4&4\\\\\n",
    "3&9&5\n",
    "\\end{array}\\right]$$"
   ]
  },
  {
   "cell_type": "markdown",
   "metadata": {},
   "source": [
    "...drugiego rzędu..."
   ]
  },
  {
   "cell_type": "markdown",
   "metadata": {},
   "source": [
    "$$\\left[\\begin{array}{cccc}\n",
    "2&4&-&-\\\\\n",
    "2&4&4&-\\\\\n",
    "2&4&4&1\\\\\n",
    "3&9&5&1\n",
    "\\end{array}\\right]$$"
   ]
  },
  {
   "cell_type": "markdown",
   "metadata": {},
   "source": [
    "...trzeciego rzędu..."
   ]
  },
  {
   "cell_type": "markdown",
   "metadata": {},
   "source": [
    "$$\\left[\\begin{array}{ccccc}\n",
    "2&4&-&-&-\\\\\n",
    "2&4&4&-&-\\\\\n",
    "2&4&4&1&-\\\\\n",
    "3&9&5&1&0\n",
    "\\end{array}\\right]$$"
   ]
  },
  {
   "cell_type": "markdown",
   "metadata": {},
   "source": [
    "Otrzymujemy wielomian Hermite'a $$W(x)=4+4(x-2)+(x-2)(x-2)+0\\cdot(x-2)(x-2)(x-2)$$"
   ]
  },
  {
   "cell_type": "markdown",
   "metadata": {},
   "source": [
    "### Algorytm - praktyka"
   ]
  },
  {
   "cell_type": "markdown",
   "metadata": {},
   "source": [
    "Załóżmy, że mamy dane punkty $x_0,...,x_n$, wartości funkcji $y_0,...,y_n$ oraz wartości pierwszej pochodnej $p_0,...,p_n$."
   ]
  },
  {
   "cell_type": "markdown",
   "metadata": {},
   "source": [
    "#### START"
   ]
  },
  {
   "cell_type": "markdown",
   "metadata": {},
   "source": [
    "Tworzymy macierz A wymiaru $(2n+1)\\times(2n+1)$ wypełnioną zerami i zerowy wektor pomocniczy $b$ o długości $2n+1$."
   ]
  },
  {
   "cell_type": "markdown",
   "metadata": {},
   "source": [
    "#### Krok 1"
   ]
  },
  {
   "cell_type": "markdown",
   "metadata": {},
   "source": [
    "Dla $i=0,...,n$ wykonujemy:"
   ]
  },
  {
   "cell_type": "markdown",
   "metadata": {},
   "source": [
    "- $b_{2i}=x_i$\n",
    "- $b_{2i+1}=x_i$\n",
    "- $A_{2i,0}=y_i$\n",
    "- $A_{2i+1,0}=y_i$\n",
    "- $A_{2i+1,1}=p_i$\n",
    "- jeżeli $i\\neq 0$ to $$A_{2i,1}=\\frac{A_{2i,0}-A_{2i-1,0}}{b_{2i}-b_{2i-1}}$$"
   ]
  },
  {
   "cell_type": "markdown",
   "metadata": {},
   "source": [
    "#### Krok 2"
   ]
  },
  {
   "cell_type": "markdown",
   "metadata": {},
   "source": [
    "Dla $i=2,...,2n+1$ wykonujemy:"
   ]
  },
  {
   "cell_type": "markdown",
   "metadata": {},
   "source": [
    "dla $j=2,...,i$ wykonujemy: $$A_{i,j}=\\frac{A_{i,j-1}-A_{i-1,j-1}}{b_i-b_{i-j}}$$"
   ]
  },
  {
   "cell_type": "markdown",
   "metadata": {},
   "source": [
    "#### Krok 3"
   ]
  },
  {
   "cell_type": "markdown",
   "metadata": {},
   "source": [
    "Zwracamy wektor współczyników $A_{0,0},A_{1,1},...,A_{2n+1,2n+1}$ i konstuujemy wielomian $$W(x)=\\sum _{i=0}^{2n+1}A_{i,i}\\prod _{j=0}^{i-1}(x-x_{j}),$$"
   ]
  },
  {
   "cell_type": "markdown",
   "metadata": {},
   "source": [
    "#### STOP"
   ]
  },
  {
   "cell_type": "markdown",
   "metadata": {},
   "source": [
    "W `scikit.interpolation` funkcja `CubicHermiteSpline` znajduje wielomian interpolacyjny Hermite'a dla pierwszych pochodnych. W przypadku gdy dane są również wartości wyższych pochodnych wielomian interpolacyjny znajduje funkcja `BPoly.from_derivatives`."
   ]
  },
  {
   "cell_type": "code",
   "execution_count": 1,
   "metadata": {},
   "outputs": [],
   "source": [
    "import scipy.interpolate as si\n",
    "import numpy as np\n",
    "from numpy.polynomial.polynomial import Polynomial\n",
    "import matplotlib.pyplot as plt"
   ]
  },
  {
   "cell_type": "code",
   "execution_count": 2,
   "metadata": {},
   "outputs": [
    {
     "data": {
      "image/png": "[encoded data removed]",
      "text/plain": [
       "<Figure size 640x480 with 1 Axes>"
      ]
     },
     "metadata": {},
     "output_type": "display_data"
    }
   ],
   "source": [
    "hermite = si.BPoly.from_derivatives([2, 3], [[4, 4, 2], [9]])\n",
    "\n",
    "xpp = np.linspace(2,3,100)\n",
    "plt.plot(xpp,hermite.__call__(xpp));"
   ]
  },
  {
   "cell_type": "markdown",
   "metadata": {},
   "source": [
    "### Zadanie 1. (3 pkt)\n",
    "\n",
    "Zaimplementować algorytm interpolacji Hermitte'a. Przetestować go na przykładowych danych wejściowych (mogą być powyższe) i porównać z działaniem funkcji z `scipy`."
   ]
  },
  {
   "cell_type": "code",
   "execution_count": 3,
   "metadata": {},
   "outputs": [],
   "source": [
    "def get_herimtte_interp(xs: np.ndarray, derrivatives: np.ndarray):\n",
    "    def get_a_factors(xs: np.ndarray, derrivatives: np.ndarray):\n",
    "        n = sum(len(arr) for arr in derrivatives)\n",
    "        matrix_size = n\n",
    "\n",
    "        A = np.zeros(shape=(matrix_size, matrix_size + 1))\n",
    "\n",
    "        idx = 0\n",
    "\n",
    "        for x_idx, x_derrivatives in enumerate(derrivatives):\n",
    "            repeat = len(x_derrivatives)\n",
    "            x = xs[x_idx]\n",
    "\n",
    "            for _ in range(repeat):\n",
    "                A[idx][0] = x\n",
    "                A[idx][1] = derrivatives[x_idx][0]\n",
    "\n",
    "                idx += 1\n",
    "\n",
    "\n",
    "        fact = 1\n",
    "\n",
    "        for coll in range(2, matrix_size + 1):\n",
    "            derrivative_deg = coll - 1\n",
    "            fact *= derrivative_deg\n",
    "            x_idx = 0\n",
    "\n",
    "            for row in range(coll - 1, matrix_size):\n",
    "                # if xs in rows: row and row - 1 are equal then use derrivative[derrivative_deg] / fact(derrivative_deg)\n",
    "                if A[row - derrivative_deg][0] == A[row][0]:\n",
    "                    A[row][coll] = derrivatives[x_idx][derrivative_deg] / fact\n",
    "                else:\n",
    "                    A[row][coll] = (A[row][coll - 1] - A[row - 1][coll - 1]) / (A[row][0] - A[row - derrivative_deg][0])\n",
    "\n",
    "                if A[row][0] != A[row - 1][0]:\n",
    "                    x_idx += 1\n",
    "\n",
    "        return np.array([A[idx][idx + 1] for idx in range(matrix_size)]), A[:, 0]\n",
    "\n",
    "    def calc_interp_val(x, modified_xs, a_factors: np.ndarray):\n",
    "        res = 0\n",
    "\n",
    "        for i, a in enumerate(a_factors):\n",
    "            factor = a\n",
    "\n",
    "\n",
    "            for j in range(i):\n",
    "                factor *= x - modified_xs[j]\n",
    "\n",
    "            res += factor\n",
    "        return res\n",
    "\n",
    "    a_factors, modified_xs = get_a_factors(xs, derrivatives)\n",
    "\n",
    "    return lambda x: calc_interp_val(x, modified_xs, a_factors)"
   ]
  },
  {
   "cell_type": "code",
   "execution_count": 4,
   "metadata": {},
   "outputs": [
    {
     "data": {
      "image/png": "[encoded data removed]",
      "text/plain": [
       "<Figure size 640x480 with 1 Axes>"
      ]
     },
     "metadata": {},
     "output_type": "display_data"
    }
   ],
   "source": [
    "x1, x2 = -1, 2\n",
    "x_nodes = [x1, x2]\n",
    "derrivatives = [[1, -2, 2], [4, 4, 2]]\n",
    "hermitte_interp = get_herimtte_interp(x_nodes, derrivatives)\n",
    "vectorized_hermitte_interp = np.vectorize(hermitte_interp)\n",
    "scipy_hermitte = si.BPoly.from_derivatives(x_nodes, derrivatives)\n",
    "\n",
    "xs = np.linspace(x1, x2, 100)\n",
    "y_hermitte = vectorized_hermitte_interp(xs)\n",
    "y_scipy = scipy_hermitte.__call__(xs)\n",
    "\n",
    "plt.title('Hermitte interpolation')\n",
    "plt.plot(xs, y_hermitte, color = 'b', linestyle = '-', label = 'custom hermitte')\n",
    "plt.plot(xs, y_scipy, color = 'r', linestyle = '--', label = 'scipy hermitte')\n",
    "plt.xlabel('x values')\n",
    "plt.ylabel('y values')\n",
    "plt.legend()\n",
    "\n",
    "plt.show();\n"
   ]
  },
  {
   "cell_type": "markdown",
   "metadata": {},
   "source": [
    "### Zadanie 2. (2 pkt)\n",
    "Na przykładzie dowolnej metody interpolacji zobrazować graficznie i wyjaśnić czytelnikowi tzw. efekt Rungego."
   ]
  },
  {
   "cell_type": "code",
   "execution_count": 5,
   "metadata": {},
   "outputs": [
    {
     "name": "stderr",
     "output_type": "stream",
     "text": [
      "<>:26: SyntaxWarning: invalid escape sequence '\\s'\n",
      "<>:26: SyntaxWarning: invalid escape sequence '\\s'\n",
      "/tmp/ipykernel_6612/705920561.py:26: SyntaxWarning: invalid escape sequence '\\s'\n",
      "  plt.plot(x, y, c = 'b', label = '$ \\sin (x) / x $')\n"
     ]
    },
    {
     "data": {
      "image/png": "[encoded data removed]",
      "text/plain": [
       "<Figure size 640x480 with 1 Axes>"
      ]
     },
     "metadata": {},
     "output_type": "display_data"
    }
   ],
   "source": [
    "# func_to_interp = lambda x: np.sin(x) / x if abs(x) > 0.05 else 1\n",
    "# func_to_interp = lambda x: x ** 2\n",
    "func_to_interp = lambda x: 1 / (25 * x ** 2 + 1)\n",
    "vectorized_func_to_interp = np.vectorize(func_to_interp)\n",
    "\n",
    "limit = 2\n",
    "x = np.linspace(-limit, limit, 100)\n",
    "y = vectorized_func_to_interp(x)\n",
    "\n",
    "# first interpolation\n",
    "nodes_cnt1 = 5\n",
    "x_nodes1 = np.linspace(-limit, limit, nodes_cnt1)\n",
    "y_nodes1 = vectorized_func_to_interp(x_nodes1)\n",
    "\n",
    "poly1 = si.lagrange(x_nodes1, y_nodes1)\n",
    "y_lagrange1 = Polynomial(poly1.coef[::-1])(x)\n",
    "\n",
    "# second interpolation\n",
    "nodes_cnt2 = 20\n",
    "x_nodes2 = np.linspace(-limit, limit, nodes_cnt2)\n",
    "y_nodes2 = vectorized_func_to_interp(x_nodes2)\n",
    "\n",
    "poly2 = si.lagrange(x_nodes2, y_nodes2)\n",
    "y_lagrange2 = Polynomial(poly2.coef[::-1])(x)\n",
    "\n",
    "plt.plot(x, y, c = 'b', label = '$ \\sin (x) / x $')\n",
    "plt.plot(x, y_lagrange1, c = 'r', label = f\"$ W_{nodes_cnt1} (x) $\")\n",
    "plt.plot(x, y_lagrange2, c = 'orange', label = f\"$ W_{{{nodes_cnt2}}}(x) $\")\n",
    "plt.scatter(x_nodes1, y_nodes1, marker = 'o')\n",
    "plt.scatter(x_nodes2, y_nodes2, marker = 'o')\n",
    "plt.ylim(bottom = -2, top = 2)\n",
    "plt.legend()\n",
    "plt.show();"
   ]
  }
 ],
 "metadata": {
  "kernelspec": {
   "display_name": "mownit_env",
   "language": "python",
   "name": "python3"
  },
  "language_info": {
   "codemirror_mode": {
    "name": "ipython",
    "version": 3
   },
   "file_extension": ".py",
   "mimetype": "text/x-python",
   "name": "python",
   "nbconvert_exporter": "python",
   "pygments_lexer": "ipython3",
   "version": "3.12.3"
  }
 },
 "nbformat": 4,
 "nbformat_minor": 4
}
