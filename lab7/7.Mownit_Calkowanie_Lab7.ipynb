{
 "cells": [
  {
   "cell_type": "markdown",
   "metadata": {},
   "source": [
    "# MOwNiT - Całkowanie numeryczne"
   ]
  },
  {
   "cell_type": "markdown",
   "metadata": {},
   "source": [
    "## Kwadratury Gaussa\n",
    "\n",
    "Kwadratury Gaussa to metoda całkowania numerycznego polegająca na takim wyborze wag $w_{1},w_{2},\\dots ,w_{n}$ i węzłów interpolacji $t_{1},t_{2},\\dots ,t_{n}\\in [a,b]$ aby wyrażenie\n",
    "\n",
    "$$\\sum _{i=1}^{n}w_{i}f(t_{i})$$\n",
    "\n",
    "w przybliżeniu było równe całce\n",
    "\n",
    "$$I(f)=\\int \\limits _{a}^{b}\\omega(x)f(x)dx,$$\n",
    "\n",
    "gdzie $f$ jest dowolną funkcją ciągłą na $[a,b]$ a $\\omega$ jest pewną odpowiednio określoną nieujemną *funkcją wagową*.\n",
    "\n",
    "Z twierdzenia Gaussa wynika, że dobrymi kandydatami na **węzły interpolacji** są miejsca zerowe wielomianów ortogonalnych. Otrzymujemy zatem następujące rodzaje kwadratur Gaussa:\n",
    "\n",
    "### Kwadratury Gaussa-Legendre'a\n",
    "\n",
    "$$I(f)=\\int \\limits _{-1}^{1}f(x)dx\\approx \\sum _{i=1}^{n}w_{i}f(t_{i}),$$\n",
    "\n",
    "gdzie $t_{i}$ to pierwiastki $n$-tego *wielomianu Legendre’a* a funkcja wagowa to $\\omega\\equiv 1$.\n",
    "\n",
    "### Kwadratury Gaussa-Czebyszewa\n",
    "\n",
    "$$I(f)=\\int \\limits _{-1}^{1}f(x){\\frac {dx}{\\sqrt {1-x^{2}}}}\\approx \\sum _{i=1}^{n}w_{i}f(t_{i}),$$\n",
    "\n",
    "gdzie $t_{i}$ to pierwiastki $n$-tego wielomianu Czebyszewa a funkcja wagowa to $w(x)={\\frac {1}{\\sqrt {1-x^{2}}}}$.\n",
    "\n",
    "### Kwadratury Gaussa-Hermitte'a\n",
    "\n",
    "$$I(f)=\\int \\limits _{-\\infty }^{\\infty }e^{-x^{2}}f(x)dx\\approx \\sum _{i=1}^{n}w_{i}f(t_{i}),$$\n",
    "\n",
    "gdzie $t_{i}$ to pierwiastki $n$-tego wielomianu Hermite’a a funkcja wagowa to $w(x)=e^{-x^{2}}$.\n",
    "\n",
    "### Kwadratury Gaussa-Laguerre’a\n",
    "\n",
    "$$\\displaystyle I(f)=\\int \\limits _{0}^{\\infty }e^{-x}f(x)dx\\approx \\sum _{i=1}^{n}w_{i}f(t_{i}),$$\n",
    "\n",
    "gdzie $t_{i}$ to pierwiastki $n$-tego wielomianu Laguerre’a a funkcja wagowa to $w(x)=e^{-x}$.\n",
    "\n",
    "### Kwadratury Gaussa-Jacobiego\n",
    "\n",
    "$$I(f)=\\int \\limits _{-1}^{1}(1-x)^{\\alpha }(1+x)^{\\beta }f(x)dx\\approx \\sum _{i=1}^{n}w_{i}f(t_{i}),$$\n",
    "    \n",
    "gdzie  $t_{i}$ to pierwiastki $n$-tego wielomianu Jacobiego a funkcja wagowa to $w(x)=(1-x)^{\\alpha }(1+x)^{\\beta }$.\n",
    "\n",
    "We wszystkich rodzajach węzłów interpolacji optymalne **wagi** $w_{1},w_{2},\\dots ,w_{n}$ otrzymujemy jako rozwiązania układu równań\n",
    " $$\\left\\{{\\begin{matrix}p_{0}(t_{1})w_{1}+&\\ldots &+p_{0}(t_{n})w_{n}=&\\langle p_{0},p_{0}\\rangle _{\\omega}\\\\p_{1}(t_{1})w_{1}+&\\ldots &+p_{1}(t_{n})w_{n}=&0\\\\\\vdots &&\\vdots &\\vdots \\\\p_{n-1}(t_{1})w_{1}+&\\ldots &+p_{n-1}(t_{n})w_{n}=&0\\end{matrix}}\\right.,$$\n",
    "gdzie $p_j$ oznacza $j$-ty wielomian ortogonalny z odpowiedniej rodziny a iloczyn skalarny z wagą $\\omega$ definiujemy jako\n",
    "$$\\langle f,g\\rangle _{w}=\\int \\limits _{a}^{b}\\omega(x)f(x)g(x)dx.$$"
   ]
  },
  {
   "cell_type": "markdown",
   "metadata": {},
   "source": [
    "## Kwadratury Gaussa w `numpy`\n",
    "\n",
    "W `numpy` mamy dostępne następujące rodzaje kwadratur o samotłumaczących się nazwach:\n",
    "- `numpy.polynomial.legendre.leggauss(deg)`\n",
    "- `numpy.polynomial.chebyshev.chebgauss(deg)`\n",
    "- `numpy.polynomial.hermite.hermgauss(deg)`\n",
    "- `numpy.polynomial.laguerre.laggauss(deg)`\n",
    "\n",
    "Jedyne, co musimy podać to stopień `deg` wielomianu, a jako wynik otrzymamy dwie tablice *ndarray*:\n",
    "- `x` zawierającą listę punktów $t_i$\n",
    "- `y` zawierającą listę wag $w_i$"
   ]
  },
  {
   "cell_type": "markdown",
   "metadata": {},
   "source": [
    "### Przykład.\n",
    "\n",
    "Policzmy całkę $\\int_{-1}^{1} x^2 dx$. Jest to typ całki pasujący do kwadratury Gaussa-Legendre'a:"
   ]
  },
  {
   "cell_type": "code",
   "execution_count": 1,
   "metadata": {},
   "outputs": [
    {
     "name": "stdout",
     "output_type": "stream",
     "text": [
      "0.6666666666666666\n"
     ]
    }
   ],
   "source": [
    "import numpy as np\n",
    "from numpy.polynomial.legendre import leggauss\n",
    "\n",
    "n=2\n",
    "\n",
    "t,w = leggauss(2)\n",
    "calka = sum(w*t**2) #sum(wi*f(ti))\n",
    "\n",
    "print(calka)"
   ]
  },
  {
   "cell_type": "markdown",
   "metadata": {},
   "source": [
    "### Zadanie 1 (1 pkt).\n",
    "\n",
    "Dobierz odpowiednią kwadraturę i oblicz całki:\n",
    "1. $\\displaystyle\\int_{-1}^1\\frac{dx}{1+x^2}$\n",
    "2. $\\displaystyle\\int_{0}^\\infty\\frac{\\sin x}{x}dx$\n",
    "3. $\\displaystyle\\int_{-\\infty}^\\infty\\frac{dx}{2x^2-12x+36}$\n",
    "4. $\\displaystyle\\int_{-1}^1\\sqrt[3]{x}dx$"
   ]
  },
  {
   "cell_type": "markdown",
   "metadata": {},
   "source": [
    "1. Korzystamy z kwadratury Legendre\n",
    "\n",
    "$ \\displaystyle\\int_{-1}^1\\frac{dx}{1+x^2} = \\frac{\\pi}{2} \\approx 1.5708$"
   ]
  },
  {
   "cell_type": "code",
   "execution_count": 2,
   "metadata": {},
   "outputs": [
    {
     "name": "stdout",
     "output_type": "stream",
     "text": [
      "1.5711711711711713\n"
     ]
    }
   ],
   "source": [
    "from numpy.polynomial.legendre import leggauss\n",
    "\n",
    "f1 = np.vectorize(lambda x: 1 / (1 + x ** 2))\n",
    "deg = 5\n",
    "\n",
    "t, w = leggauss(deg)\n",
    "integral1 = np.sum(w * f1(t))\n",
    "\n",
    "print(integral1)"
   ]
  },
  {
   "cell_type": "markdown",
   "metadata": {},
   "source": [
    "2. Korzystamy z kwadratury Laguerre\n",
    "\n",
    "$\\displaystyle\\int_{0}^\\infty\\frac{\\sin x}{x}dx = \\displaystyle\\int_{0}^\\infty\\frac{\\sin x \\cdot e^{x}}{x} \\cdot e^{-x}dx = \\frac{\\pi}{2} \\approx 1.5708 $"
   ]
  },
  {
   "cell_type": "code",
   "execution_count": 3,
   "metadata": {},
   "outputs": [
    {
     "name": "stdout",
     "output_type": "stream",
     "text": [
      "1.5297114434806827\n"
     ]
    }
   ],
   "source": [
    "from numpy.polynomial.laguerre import laggauss\n",
    "\n",
    "f2 = np.vectorize(lambda x: np.sin(x) * np.exp(x) / x)\n",
    "deg = 170\n",
    "\n",
    "t, w = laggauss(deg)\n",
    "integral2 = np.sum(w * f2(t))\n",
    "\n",
    "print(integral2)"
   ]
  },
  {
   "cell_type": "markdown",
   "metadata": {},
   "source": [
    "3. Korzystamy z kwadratury Hermitte'a\n",
    "\n",
    "$\\displaystyle\\int_{-\\infty}^\\infty\\frac{dx}{2x^2-12x+36} = \\displaystyle\\int_{-\\infty}^\\infty\\frac{e^{x^2} dx}{2x^2-12x+36} \\cdot e^{-x^2} = \\frac{\\pi}{6} \\approx 0.5236$"
   ]
  },
  {
   "cell_type": "code",
   "execution_count": 4,
   "metadata": {},
   "outputs": [
    {
     "name": "stdout",
     "output_type": "stream",
     "text": [
      "0.48181477979378506\n"
     ]
    }
   ],
   "source": [
    "from numpy.polynomial.hermite import hermgauss\n",
    "\n",
    "f3 = np.vectorize(lambda x: np.exp(x ** 2) / (2 * x ** 2 - 12 * x + 36))\n",
    "deg = 300\n",
    "\n",
    "t, w = hermgauss(deg)\n",
    "integral3 = np.sum(w * f3(t))\n",
    "\n",
    "print(integral3)"
   ]
  },
  {
   "cell_type": "markdown",
   "metadata": {},
   "source": [
    "4. Korzystamy z kwadratury Legendre'a\n",
    "\n",
    "$\\displaystyle\\int_{-1}^1\\sqrt[3]{x}dx = 0$"
   ]
  },
  {
   "cell_type": "code",
   "execution_count": 5,
   "metadata": {},
   "outputs": [
    {
     "name": "stdout",
     "output_type": "stream",
     "text": [
      "0.0\n"
     ]
    }
   ],
   "source": [
    "f4 = np.cbrt\n",
    "deg = 6\n",
    "\n",
    "t, w = leggauss(deg)\n",
    "integral4 = np.sum(w * f4(t))\n",
    "print(integral4)"
   ]
  },
  {
   "cell_type": "markdown",
   "metadata": {},
   "source": [
    "### Zadanie 2 (1 pkt).\n",
    "Zobrazuj na przykładzie wybranej całki i wybranej kwadratury twierdzenie o stopniu dokładności kwadratury Gaussa."
   ]
  },
  {
   "cell_type": "markdown",
   "metadata": {},
   "source": [
    "Wybierzmy funkcje:\n",
    "\n",
    "$ f(x) = 3 x^3 + 2 x^2 + x + 1 $\n",
    "\n",
    "$ g(x) = 4 x^4 + 3 x^3 + 2 x^2 + x + 1 $\n",
    "\n",
    "Całki z tych funkcji w przedziałach od -1 do 1 to odpowiedznio:\n",
    "\n",
    "$ \\displaystyle\\int_{-1}^{1}f(x) \\space dx = \\displaystyle\\int_{-1}^{1} 3 x^3 + 2 x^2 + x + 1 \\space dx = \\frac{10}{3} \\approx 3.3333 $\n",
    "\n",
    "$ \\displaystyle\\int_{-1}^{1}g(x) \\space dx = \\displaystyle\\int_{-1}^{1} 4 x^4 + 3 x^3 + 2 x^2 + x + 1 \\space dx = \\frac{74}{15} \\approx 4.9333 $"
   ]
  },
  {
   "cell_type": "markdown",
   "metadata": {},
   "source": [
    "Twierdzenie o stopniu dokładności kwadratury Gaussa mówi, że kwadratura $ n $ węzłami jest dokładna dla wielomianów o stopniu mniejszym lub równym $ 2 n - 1$, zatem dla $ n = 3 $ kwadratura powinna być dokładna dla wszystkich wielmianów stopnia mniejszego lub równego $ 2 \\cdot 3 - 1 = 5 $, więc całki z funkcji $ f $ oraz $ g $ powinny być dokładne:"
   ]
  },
  {
   "cell_type": "code",
   "execution_count": 6,
   "metadata": {},
   "outputs": [],
   "source": [
    "f = np.vectorize(lambda x: 3 * x ** 3 + 2 * x ** 2 + x + 1)\n",
    "g = np.vectorize(lambda x: 4 * x ** 4 + 3 * x ** 3 + 2 * x ** 2 + x + 1)"
   ]
  },
  {
   "cell_type": "code",
   "execution_count": 7,
   "metadata": {},
   "outputs": [
    {
     "name": "stdout",
     "output_type": "stream",
     "text": [
      "3.3333333333333344\n",
      "4.9333333333333345\n"
     ]
    }
   ],
   "source": [
    "t, w = leggauss(3)\n",
    "integral_f = np.sum(w * f(t))\n",
    "integral_g = np.sum(w * g(t))\n",
    "\n",
    "print(integral_f)\n",
    "print(integral_g)"
   ]
  },
  {
   "cell_type": "markdown",
   "metadata": {},
   "source": [
    "Natomiast dla $ n = 2 $ kwadratura powinna być dokładna dla wszystkich wielmianów stopnia mniejszego lub równego $ 2 \\cdot 2 - 1 = 3 $, więc całka z funkcji $ f $ powinna pozostać dokładna, natomiast całka z funkcji $ g $ może zostać obarczona błędem:"
   ]
  },
  {
   "cell_type": "code",
   "execution_count": 8,
   "metadata": {},
   "outputs": [
    {
     "name": "stdout",
     "output_type": "stream",
     "text": [
      "3.333333333333333\n",
      "4.222222222222222\n"
     ]
    }
   ],
   "source": [
    "t, w = leggauss(2)\n",
    "integral_f = np.sum(w * f(t))\n",
    "integral_g = np.sum(w * g(t))\n",
    "\n",
    "print(integral_f)\n",
    "print(integral_g)"
   ]
  },
  {
   "cell_type": "markdown",
   "metadata": {},
   "source": [
    "### Zadanie 3 (3 pkt).\n",
    "Napisz własne funkcje całkujące -  w wybranym przedziale $(a,b)$ - metodami prostokątów, trapezów oraz metodą Simpsona. Porównaj dokładność swoich funkcji na przykładach z zadania 1 i porównaj ją z kwadraturami Gaussa."
   ]
  },
  {
   "cell_type": "code",
   "execution_count": 9,
   "metadata": {},
   "outputs": [],
   "source": [
    "from typing import Callable"
   ]
  },
  {
   "cell_type": "code",
   "execution_count": 10,
   "metadata": {},
   "outputs": [],
   "source": [
    "def integrate_rectangle(f: Callable[[float], float], a: float, b: float, n: int = 100):\n",
    "    h = (b - a) / n\n",
    "    return sum(f(a + (i + 0.5) * h) for i in range(n)) * h"
   ]
  },
  {
   "cell_type": "code",
   "execution_count": 11,
   "metadata": {},
   "outputs": [],
   "source": [
    "def integrate_trapezoid(f: Callable[[float], float], a: float, b: float, n: int = 100):\n",
    "    h = (b - a) / n\n",
    "    return (f(a) + f(b)) * h / 2 + sum(f(a + i * h) for i in range(1, n)) * h"
   ]
  },
  {
   "cell_type": "code",
   "execution_count": 12,
   "metadata": {},
   "outputs": [],
   "source": [
    "def integrate_simpson(f: Callable[[float], float], a: float, b: float, n: int = 100):\n",
    "    h = (b - a) / n\n",
    "    return (1/6) * h * sum(f(a + i * h) + 4 * f(a + (i + 0.5) * h) + f(a + (i + 1) * h) for i in range(n))"
   ]
  },
  {
   "cell_type": "code",
   "execution_count": 13,
   "metadata": {},
   "outputs": [],
   "source": [
    "def compare_integration_methods(f: Callable[[float], float], a: float, b: float, n: int = 100):\n",
    "    integral_rectangle = integrate_rectangle(f, a, b, n)\n",
    "    integral_trapezoid = integrate_trapezoid(f, a, b, n)\n",
    "    integral_simpson = integrate_simpson(f, a, b, n)\n",
    "\n",
    "    print(f\"integral_rectangle = {integral_rectangle}\")\n",
    "    print(f\"integral_trapezoid = {integral_trapezoid}\")\n",
    "    print(f\"integral_simpson = {integral_simpson}\")"
   ]
  },
  {
   "cell_type": "markdown",
   "metadata": {},
   "source": [
    "1. $\\displaystyle\\int_{-1}^1\\frac{dx}{1+x^2} = \\frac{\\pi}{2} \\approx 1.5708 $"
   ]
  },
  {
   "cell_type": "code",
   "execution_count": 14,
   "metadata": {},
   "outputs": [
    {
     "name": "stdout",
     "output_type": "stream",
     "text": [
      "integral_rectangle = 1.5707964934615632\n",
      "integral_trapezoid = 1.5707959934615632\n",
      "integral_simpson = 1.5707963267948966\n",
      "integral_gauss = 1.5711711711711713\n"
     ]
    }
   ],
   "source": [
    "compare_integration_methods(lambda x: 1 / (1 + x ** 2), -1, 1, 1000)\n",
    "print(f\"integral_gauss = {integral1}\")"
   ]
  },
  {
   "cell_type": "markdown",
   "metadata": {},
   "source": [
    "2. $\\displaystyle\\int_{0}^\\infty\\frac{\\sin x}{x}dx = \\frac{\\pi}{2} \\approx 1.5708$"
   ]
  },
  {
   "cell_type": "code",
   "execution_count": 15,
   "metadata": {},
   "outputs": [
    {
     "name": "stdout",
     "output_type": "stream",
     "text": [
      "integral_rectangle = 1.5702318877817176\n",
      "integral_trapezoid = 1.5702325902845204\n",
      "integral_simpson = 1.5702321219493123\n",
      "integral_gauss = 1.5297114434806827\n"
     ]
    }
   ],
   "source": [
    "compare_integration_methods(lambda x: np.sin(x) / x, 0.000001, 1000, 10000)\n",
    "print(f\"integral_gauss = {integral2}\")"
   ]
  },
  {
   "cell_type": "markdown",
   "metadata": {},
   "source": [
    "3. $\\displaystyle\\int_{-\\infty}^\\infty\\frac{dx}{2x^2-12x+36} = \\frac{\\pi}{6} \\approx 0.5236$"
   ]
  },
  {
   "cell_type": "code",
   "execution_count": 16,
   "metadata": {},
   "outputs": [
    {
     "name": "stdout",
     "output_type": "stream",
     "text": [
      "integral_rectangle = 0.5226832850892233\n",
      "integral_trapezoid = 0.5225142674137229\n",
      "integral_simpson = 0.5226269458640564\n",
      "integral_gauss = 0.48181477979378506\n"
     ]
    }
   ],
   "source": [
    "compare_integration_methods(lambda x: 1 / (2 * x ** 2 - 12 * x + 36), -1000, 1000, 1000)\n",
    "print(f\"integral_gauss = {integral3}\")"
   ]
  },
  {
   "cell_type": "markdown",
   "metadata": {},
   "source": [
    "4. $\\displaystyle\\int_{-1}^1\\sqrt[3]{x}dx = 0 $"
   ]
  },
  {
   "cell_type": "code",
   "execution_count": 17,
   "metadata": {},
   "outputs": [
    {
     "name": "stdout",
     "output_type": "stream",
     "text": [
      "integral_rectangle = 2.2257751197685137e-16\n",
      "integral_trapezoid = 1.9084733793306442e-16\n",
      "integral_simpson = 4.124108462140915e-17\n",
      "integral_gauss = 0.0\n"
     ]
    }
   ],
   "source": [
    "compare_integration_methods(np.cbrt, -1, 1, 10000)\n",
    "print(f\"integral_gauss = {integral4}\")"
   ]
  }
 ],
 "metadata": {
  "kernelspec": {
   "display_name": "mownit_env",
   "language": "python",
   "name": "python3"
  },
  "language_info": {
   "codemirror_mode": {
    "name": "ipython",
    "version": 3
   },
   "file_extension": ".py",
   "mimetype": "text/x-python",
   "name": "python",
   "nbconvert_exporter": "python",
   "pygments_lexer": "ipython3",
   "version": "3.12.3"
  }
 },
 "nbformat": 4,
 "nbformat_minor": 4
}
